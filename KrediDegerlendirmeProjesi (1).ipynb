{
 "cells": [
  {
   "cell_type": "code",
   "execution_count": 120,
   "metadata": {
    "executionInfo": {
     "elapsed": 4,
     "status": "ok",
     "timestamp": 1703538910739,
     "user": {
      "displayName": "Tulay Cetin",
      "userId": "01551450039329269511"
     },
     "user_tz": -180
    },
    "id": "KMudmPYKPyNn"
   },
   "outputs": [],
   "source": [
    "import pandas as pd\n",
    "import numpy as np\n",
    "import seaborn as sns\n",
    "import matplotlib.pyplot as plt\n",
    "from sklearn.preprocessing import StandardScaler\n",
    "import warnings\n",
    "warnings.filterwarnings('ignore')\n"
   ]
  },
  {
   "cell_type": "code",
   "execution_count": 121,
   "metadata": {
    "executionInfo": {
     "elapsed": 10,
     "status": "ok",
     "timestamp": 1703538911171,
     "user": {
      "displayName": "Tulay Cetin",
      "userId": "01551450039329269511"
     },
     "user_tz": -180
    },
    "id": "_OsnoEBHP-BP"
   },
   "outputs": [],
   "source": [
    "df =pd.read_csv('train_kredi_tahmini.csv')\n",
    "df2 = pd.read_csv('test_kredi_tahmini.csv')"
   ]
  },
  {
   "cell_type": "code",
   "execution_count": 122,
   "metadata": {
    "executionInfo": {
     "elapsed": 9,
     "status": "ok",
     "timestamp": 1703538911171,
     "user": {
      "displayName": "Tulay Cetin",
      "userId": "01551450039329269511"
     },
     "user_tz": -180
    },
    "id": "6t-Q3760P-Kh"
   },
   "outputs": [],
   "source": [
    "train_original=df.copy()\n",
    "test_original=df2.copy()"
   ]
  },
  {
   "cell_type": "code",
   "execution_count": 123,
   "metadata": {
    "colab": {
     "base_uri": "https://localhost:8080/"
    },
    "executionInfo": {
     "elapsed": 9,
     "status": "ok",
     "timestamp": 1703538911171,
     "user": {
      "displayName": "Tulay Cetin",
      "userId": "01551450039329269511"
     },
     "user_tz": -180
    },
    "id": "avl4VTX3P-Ri",
    "outputId": "f3707069-06ce-4f5b-feb6-837f1f1ab184"
   },
   "outputs": [
    {
     "data": {
      "text/plain": [
       "Index(['Loan_ID', 'Gender', 'Married', 'Dependents', 'Education',\n",
       "       'Self_Employed', 'ApplicantIncome', 'CoapplicantIncome', 'LoanAmount',\n",
       "       'Loan_Amount_Term', 'Credit_History', 'Property_Area', 'Loan_Status'],\n",
       "      dtype='object')"
      ]
     },
     "execution_count": 123,
     "metadata": {},
     "output_type": "execute_result"
    }
   ],
   "source": [
    "df.columns\n",
    "#veri setindeki kolanları tanıyalım ,Eğitim(train) veri setinde\n",
    "# 12 bağımsız değişken ve 1 hedef değişkenimiz var, yani Loan_Status var"
   ]
  },
  {
   "cell_type": "code",
   "execution_count": 124,
   "metadata": {
    "colab": {
     "base_uri": "https://localhost:8080/",
     "height": 244
    },
    "executionInfo": {
     "elapsed": 8,
     "status": "ok",
     "timestamp": 1703538911171,
     "user": {
      "displayName": "Tulay Cetin",
      "userId": "01551450039329269511"
     },
     "user_tz": -180
    },
    "id": "dljDuz_vP-Xs",
    "outputId": "d3ee6b3d-5e6f-47ba-e0d7-da3da78f3bc8"
   },
   "outputs": [
    {
     "data": {
      "text/html": [
       "<div>\n",
       "<style scoped>\n",
       "    .dataframe tbody tr th:only-of-type {\n",
       "        vertical-align: middle;\n",
       "    }\n",
       "\n",
       "    .dataframe tbody tr th {\n",
       "        vertical-align: top;\n",
       "    }\n",
       "\n",
       "    .dataframe thead th {\n",
       "        text-align: right;\n",
       "    }\n",
       "</style>\n",
       "<table border=\"1\" class=\"dataframe\">\n",
       "  <thead>\n",
       "    <tr style=\"text-align: right;\">\n",
       "      <th></th>\n",
       "      <th>Loan_ID</th>\n",
       "      <th>Gender</th>\n",
       "      <th>Married</th>\n",
       "      <th>Dependents</th>\n",
       "      <th>Education</th>\n",
       "      <th>Self_Employed</th>\n",
       "      <th>ApplicantIncome</th>\n",
       "      <th>CoapplicantIncome</th>\n",
       "      <th>LoanAmount</th>\n",
       "      <th>Loan_Amount_Term</th>\n",
       "      <th>Credit_History</th>\n",
       "      <th>Property_Area</th>\n",
       "      <th>Loan_Status</th>\n",
       "    </tr>\n",
       "  </thead>\n",
       "  <tbody>\n",
       "    <tr>\n",
       "      <th>0</th>\n",
       "      <td>LP001002</td>\n",
       "      <td>Male</td>\n",
       "      <td>No</td>\n",
       "      <td>0</td>\n",
       "      <td>Graduate</td>\n",
       "      <td>No</td>\n",
       "      <td>5849</td>\n",
       "      <td>0.0</td>\n",
       "      <td>NaN</td>\n",
       "      <td>360.0</td>\n",
       "      <td>1.0</td>\n",
       "      <td>Urban</td>\n",
       "      <td>Y</td>\n",
       "    </tr>\n",
       "    <tr>\n",
       "      <th>1</th>\n",
       "      <td>LP001003</td>\n",
       "      <td>Male</td>\n",
       "      <td>Yes</td>\n",
       "      <td>1</td>\n",
       "      <td>Graduate</td>\n",
       "      <td>No</td>\n",
       "      <td>4583</td>\n",
       "      <td>1508.0</td>\n",
       "      <td>128.0</td>\n",
       "      <td>360.0</td>\n",
       "      <td>1.0</td>\n",
       "      <td>Rural</td>\n",
       "      <td>N</td>\n",
       "    </tr>\n",
       "    <tr>\n",
       "      <th>2</th>\n",
       "      <td>LP001005</td>\n",
       "      <td>Male</td>\n",
       "      <td>Yes</td>\n",
       "      <td>0</td>\n",
       "      <td>Graduate</td>\n",
       "      <td>Yes</td>\n",
       "      <td>3000</td>\n",
       "      <td>0.0</td>\n",
       "      <td>66.0</td>\n",
       "      <td>360.0</td>\n",
       "      <td>1.0</td>\n",
       "      <td>Urban</td>\n",
       "      <td>Y</td>\n",
       "    </tr>\n",
       "    <tr>\n",
       "      <th>3</th>\n",
       "      <td>LP001006</td>\n",
       "      <td>Male</td>\n",
       "      <td>Yes</td>\n",
       "      <td>0</td>\n",
       "      <td>Not Graduate</td>\n",
       "      <td>No</td>\n",
       "      <td>2583</td>\n",
       "      <td>2358.0</td>\n",
       "      <td>120.0</td>\n",
       "      <td>360.0</td>\n",
       "      <td>1.0</td>\n",
       "      <td>Urban</td>\n",
       "      <td>Y</td>\n",
       "    </tr>\n",
       "    <tr>\n",
       "      <th>4</th>\n",
       "      <td>LP001008</td>\n",
       "      <td>Male</td>\n",
       "      <td>No</td>\n",
       "      <td>0</td>\n",
       "      <td>Graduate</td>\n",
       "      <td>No</td>\n",
       "      <td>6000</td>\n",
       "      <td>0.0</td>\n",
       "      <td>141.0</td>\n",
       "      <td>360.0</td>\n",
       "      <td>1.0</td>\n",
       "      <td>Urban</td>\n",
       "      <td>Y</td>\n",
       "    </tr>\n",
       "  </tbody>\n",
       "</table>\n",
       "</div>"
      ],
      "text/plain": [
       "    Loan_ID Gender Married Dependents     Education Self_Employed  \\\n",
       "0  LP001002   Male      No          0      Graduate            No   \n",
       "1  LP001003   Male     Yes          1      Graduate            No   \n",
       "2  LP001005   Male     Yes          0      Graduate           Yes   \n",
       "3  LP001006   Male     Yes          0  Not Graduate            No   \n",
       "4  LP001008   Male      No          0      Graduate            No   \n",
       "\n",
       "   ApplicantIncome  CoapplicantIncome  LoanAmount  Loan_Amount_Term  \\\n",
       "0             5849                0.0         NaN             360.0   \n",
       "1             4583             1508.0       128.0             360.0   \n",
       "2             3000                0.0        66.0             360.0   \n",
       "3             2583             2358.0       120.0             360.0   \n",
       "4             6000                0.0       141.0             360.0   \n",
       "\n",
       "   Credit_History Property_Area Loan_Status  \n",
       "0             1.0         Urban           Y  \n",
       "1             1.0         Rural           N  \n",
       "2             1.0         Urban           Y  \n",
       "3             1.0         Urban           Y  \n",
       "4             1.0         Urban           Y  "
      ]
     },
     "execution_count": 124,
     "metadata": {},
     "output_type": "execute_result"
    }
   ],
   "source": [
    "df.head()"
   ]
  },
  {
   "cell_type": "code",
   "execution_count": 125,
   "metadata": {
    "colab": {
     "base_uri": "https://localhost:8080/"
    },
    "executionInfo": {
     "elapsed": 8,
     "status": "ok",
     "timestamp": 1703538911172,
     "user": {
      "displayName": "Tulay Cetin",
      "userId": "01551450039329269511"
     },
     "user_tz": -180
    },
    "id": "vU7wyi0FP-dj",
    "outputId": "858e0751-7bc5-4fb2-f346-60a300b582dc"
   },
   "outputs": [
    {
     "data": {
      "text/plain": [
       "(Loan_ID               object\n",
       " Gender                object\n",
       " Married               object\n",
       " Dependents            object\n",
       " Education             object\n",
       " Self_Employed         object\n",
       " ApplicantIncome        int64\n",
       " CoapplicantIncome    float64\n",
       " LoanAmount           float64\n",
       " Loan_Amount_Term     float64\n",
       " Credit_History       float64\n",
       " Property_Area         object\n",
       " Loan_Status           object\n",
       " dtype: object,\n",
       " (614, 13))"
      ]
     },
     "execution_count": 125,
     "metadata": {},
     "output_type": "execute_result"
    }
   ],
   "source": [
    "df.dtypes ,df.shape"
   ]
  },
  {
   "cell_type": "markdown",
   "metadata": {
    "id": "2zd3prMrQVO5"
   },
   "source": [
    "#Eksik verileri tamamla kolonlarını yeniden isimlenidir hepsini sayısal veriye dönüştür ve sonra ölçeklendir.\n"
   ]
  },
  {
   "cell_type": "markdown",
   "metadata": {
    "id": "23Au9i7j_t60"
   },
   "source": [
    "# Yeni Bölüm"
   ]
  },
  {
   "cell_type": "code",
   "execution_count": 126,
   "metadata": {
    "colab": {
     "base_uri": "https://localhost:8080/",
     "height": 469
    },
    "executionInfo": {
     "elapsed": 601,
     "status": "ok",
     "timestamp": 1703538911767,
     "user": {
      "displayName": "Tulay Cetin",
      "userId": "01551450039329269511"
     },
     "user_tz": -180
    },
    "id": "4Rmq2sUaP-j0",
    "outputId": "8ee5b129-2359-4142-d9ae-46de61e12b41"
   },
   "outputs": [
    {
     "data": {
      "text/plain": [
       "<Axes: xlabel='Education', ylabel='count'>"
      ]
     },
     "execution_count": 126,
     "metadata": {},
     "output_type": "execute_result"
    },
    {
     "data": {
      "image/png": "[encoded data removed]",
      "text/plain": [
       "<Figure size 640x480 with 1 Axes>"
      ]
     },
     "metadata": {},
     "output_type": "display_data"
    }
   ],
   "source": [
    "sns.countplot(x=\"Education\",data=df)\n",
    "# Education (Egitim_Durumu) için:\n",
    "# graduate :1\n",
    "# not graduate:0"
   ]
  },
  {
   "cell_type": "code",
   "execution_count": 66,
   "metadata": {
    "executionInfo": {
     "elapsed": 12,
     "status": "ok",
     "timestamp": 1703538911767,
     "user": {
      "displayName": "Tulay Cetin",
      "userId": "01551450039329269511"
     },
     "user_tz": -180
    },
    "id": "P0swEczaSGP4"
   },
   "outputs": [],
   "source": []
  },
  {
   "cell_type": "code",
   "execution_count": 127,
   "metadata": {
    "colab": {
     "base_uri": "https://localhost:8080/"
    },
    "executionInfo": {
     "elapsed": 11,
     "status": "ok",
     "timestamp": 1703538911767,
     "user": {
      "displayName": "Tulay Cetin",
      "userId": "01551450039329269511"
     },
     "user_tz": -180
    },
    "id": "o9yrFbeFP-pH",
    "outputId": "9d0b9d00-f0da-4e52-c596-17c0b3332dee"
   },
   "outputs": [
    {
     "name": "stdout",
     "output_type": "stream",
     "text": [
      "<class 'pandas.core.series.Series'>\n",
      "RangeIndex: 614 entries, 0 to 613\n",
      "Series name: Education\n",
      "Non-Null Count  Dtype \n",
      "--------------  ----- \n",
      "614 non-null    object\n",
      "dtypes: object(1)\n",
      "memory usage: 4.9+ KB\n",
      "\n",
      "None\n",
      "---------------------------\n",
      "count          614\n",
      "unique           2\n",
      "top       Graduate\n",
      "freq           480\n",
      "Name: Education, dtype: object\n",
      "---------------------------\n",
      "['Graduate' 'Not Graduate']\n",
      "---------------------------\n",
      "Education\n",
      "Graduate        480\n",
      "Not Graduate    134\n",
      "Name: count, dtype: int64\n",
      "\n"
     ]
    }
   ],
   "source": [
    "print(\"\"\"\n",
    "{}\n",
    "---------------------------\n",
    "{}\n",
    "---------------------------\n",
    "{}\n",
    "---------------------------\n",
    "{}\n",
    "\"\"\".format(df.Education.info() , df.Education.describe() , df.Education.unique() , df.Education.value_counts()))"
   ]
  },
  {
   "cell_type": "code",
   "execution_count": 128,
   "metadata": {
    "colab": {
     "base_uri": "https://localhost:8080/"
    },
    "executionInfo": {
     "elapsed": 8,
     "status": "ok",
     "timestamp": 1703538911767,
     "user": {
      "displayName": "Tulay Cetin",
      "userId": "01551450039329269511"
     },
     "user_tz": -180
    },
    "id": "ITb3WfyTP-uS",
    "outputId": "1a43f3e7-b0d3-4773-8bf2-a97d5efbe930"
   },
   "outputs": [
    {
     "data": {
      "text/plain": [
       "0      1\n",
       "1      1\n",
       "2      1\n",
       "3      0\n",
       "4      1\n",
       "      ..\n",
       "609    1\n",
       "610    1\n",
       "611    1\n",
       "612    1\n",
       "613    1\n",
       "Name: Education, Length: 614, dtype: int64"
      ]
     },
     "execution_count": 128,
     "metadata": {},
     "output_type": "execute_result"
    }
   ],
   "source": [
    "#egitim durumu eğitimliyse  1 degilse 0 döndürülecek ve degerleri sayısal hale getirecek\n",
    "\n",
    "def education(row):\n",
    "    if(row==\"Graduate\"):\n",
    "        return 1\n",
    "    else:\n",
    "        return 0\n",
    "df[\"Education\"]=df[\"Education\"].apply(education)\n",
    "df[\"Education\"]"
   ]
  },
  {
   "cell_type": "code",
   "execution_count": 129,
   "metadata": {
    "colab": {
     "base_uri": "https://localhost:8080/",
     "height": 469
    },
    "executionInfo": {
     "elapsed": 8,
     "status": "ok",
     "timestamp": 1703538911768,
     "user": {
      "displayName": "Tulay Cetin",
      "userId": "01551450039329269511"
     },
     "user_tz": -180
    },
    "id": "WjjYpPRBP-z3",
    "outputId": "7b6296c3-0778-4083-810e-03da42cfd5fe"
   },
   "outputs": [
    {
     "data": {
      "text/plain": [
       "<Axes: xlabel='Education', ylabel='count'>"
      ]
     },
     "execution_count": 129,
     "metadata": {},
     "output_type": "execute_result"
    },
    {
     "data": {
      "image/png": "[encoded data removed]",
      "text/plain": [
       "<Figure size 640x480 with 1 Axes>"
      ]
     },
     "metadata": {},
     "output_type": "display_data"
    }
   ],
   "source": [
    "sns.countplot(x=\"Education\",data=df)"
   ]
  },
  {
   "cell_type": "code",
   "execution_count": 130,
   "metadata": {
    "colab": {
     "base_uri": "https://localhost:8080/",
     "height": 466
    },
    "executionInfo": {
     "elapsed": 517,
     "status": "ok",
     "timestamp": 1703538912279,
     "user": {
      "displayName": "Tulay Cetin",
      "userId": "01551450039329269511"
     },
     "user_tz": -180
    },
    "id": "YUnQmnbtP-5i",
    "outputId": "befd19c4-2ae8-4d95-9a16-72e101eef6d0"
   },
   "outputs": [
    {
     "data": {
      "text/plain": [
       "<Axes: xlabel='Gender', ylabel='count'>"
      ]
     },
     "execution_count": 130,
     "metadata": {},
     "output_type": "execute_result"
    },
    {
     "data": {
      "image/png": "[encoded data removed]",
      "text/plain": [
       "<Figure size 640x480 with 1 Axes>"
      ]
     },
     "metadata": {},
     "output_type": "display_data"
    }
   ],
   "source": [
    "# Gander (Cinsiyet)\n",
    "# Male:0\n",
    "# Female:1\n",
    "sns.countplot(x=\"Gender\",data=df)"
   ]
  },
  {
   "cell_type": "code",
   "execution_count": 131,
   "metadata": {
    "colab": {
     "base_uri": "https://localhost:8080/"
    },
    "executionInfo": {
     "elapsed": 14,
     "status": "ok",
     "timestamp": 1703538912279,
     "user": {
      "displayName": "Tulay Cetin",
      "userId": "01551450039329269511"
     },
     "user_tz": -180
    },
    "id": "2YLi7vflP--1",
    "outputId": "d30909c1-effb-4d8a-f176-dcbbcc383e5f"
   },
   "outputs": [
    {
     "name": "stdout",
     "output_type": "stream",
     "text": [
      "<class 'pandas.core.series.Series'>\n",
      "RangeIndex: 614 entries, 0 to 613\n",
      "Series name: Gender\n",
      "Non-Null Count  Dtype \n",
      "--------------  ----- \n",
      "601 non-null    object\n",
      "dtypes: object(1)\n",
      "memory usage: 4.9+ KB\n",
      "\n",
      "None\n",
      "---------------------------\n",
      "count      601\n",
      "unique       2\n",
      "top       Male\n",
      "freq       489\n",
      "Name: Gender, dtype: object\n",
      "---------------------------\n",
      "['Male' 'Female' nan]\n",
      "---------------------------\n",
      "Gender\n",
      "Male      489\n",
      "Female    112\n",
      "Name: count, dtype: int64\n",
      "\n"
     ]
    }
   ],
   "source": [
    "#  \"Gender\" sütununun bilgilerini, istatistiksel özetini, benzersiz değerlerini ve değer sayılarını ayrı ayrı yazdıracaktır.\n",
    "\n",
    "print(\"\"\"\n",
    "{}\n",
    "---------------------------\n",
    "{}\n",
    "---------------------------\n",
    "{}\n",
    "---------------------------\n",
    "{}\n",
    "\"\"\".format(df[\"Gender\"].info() , df[\"Gender\"].describe() , df[\"Gender\"].unique() , df[\"Gender\"].value_counts()))\n",
    "\n",
    "\n"
   ]
  },
  {
   "cell_type": "code",
   "execution_count": 132,
   "metadata": {
    "colab": {
     "base_uri": "https://localhost:8080/"
    },
    "executionInfo": {
     "elapsed": 13,
     "status": "ok",
     "timestamp": 1703538912279,
     "user": {
      "displayName": "Tulay Cetin",
      "userId": "01551450039329269511"
     },
     "user_tz": -180
    },
    "id": "ZPkqqQlLP_EE",
    "outputId": "dfa016fb-f6bb-4b49-98a1-4d42681274a8"
   },
   "outputs": [
    {
     "data": {
      "text/plain": [
       "0      0\n",
       "1      0\n",
       "2      0\n",
       "3      0\n",
       "4      0\n",
       "      ..\n",
       "609    1\n",
       "610    0\n",
       "611    0\n",
       "612    0\n",
       "613    1\n",
       "Name: Gender, Length: 614, dtype: int64"
      ]
     },
     "execution_count": 132,
     "metadata": {},
     "output_type": "execute_result"
    }
   ],
   "source": [
    "def gender(row):\n",
    "    if(row==\"Female\"):\n",
    "        return 1\n",
    "    else:\n",
    "        return 0\n",
    "df[\"Gender\"]=df[\"Gender\"].apply(gender)\n",
    "\n",
    "df[\"Gender\"]"
   ]
  },
  {
   "cell_type": "code",
   "execution_count": 133,
   "metadata": {
    "colab": {
     "base_uri": "https://localhost:8080/",
     "height": 466
    },
    "executionInfo": {
     "elapsed": 13,
     "status": "ok",
     "timestamp": 1703538912280,
     "user": {
      "displayName": "Tulay Cetin",
      "userId": "01551450039329269511"
     },
     "user_tz": -180
    },
    "id": "eK4NIEQNP_JX",
    "outputId": "75e08a3c-d350-4133-9f74-2db9e5e42c75"
   },
   "outputs": [
    {
     "data": {
      "text/plain": [
       "<Axes: xlabel='Gender', ylabel='count'>"
      ]
     },
     "execution_count": 133,
     "metadata": {},
     "output_type": "execute_result"
    },
    {
     "data": {
      "image/png": "[encoded data removed]",
      "text/plain": [
       "<Figure size 640x480 with 1 Axes>"
      ]
     },
     "metadata": {},
     "output_type": "display_data"
    }
   ],
   "source": [
    "sns.countplot(x=\"Gender\",data=df)"
   ]
  },
  {
   "cell_type": "code",
   "execution_count": 134,
   "metadata": {
    "colab": {
     "base_uri": "https://localhost:8080/",
     "height": 466
    },
    "executionInfo": {
     "elapsed": 11,
     "status": "ok",
     "timestamp": 1703538912280,
     "user": {
      "displayName": "Tulay Cetin",
      "userId": "01551450039329269511"
     },
     "user_tz": -180
    },
    "id": "gdFTEeH-P_OC",
    "outputId": "ca2d1960-2f89-44ca-8df2-72536296e94f"
   },
   "outputs": [
    {
     "data": {
      "text/plain": [
       "<Axes: xlabel='Married', ylabel='count'>"
      ]
     },
     "execution_count": 134,
     "metadata": {},
     "output_type": "execute_result"
    },
    {
     "data": {
      "image/png": "[encoded data removed]",
      "text/plain": [
       "<Figure size 640x480 with 1 Axes>"
      ]
     },
     "metadata": {},
     "output_type": "display_data"
    }
   ],
   "source": [
    "# Married(Medeni_Hali):\n",
    "# Yes:1\n",
    "# No:0\n",
    "\n",
    "sns.countplot(x=\"Married\",data=df)"
   ]
  },
  {
   "cell_type": "code",
   "execution_count": 135,
   "metadata": {
    "colab": {
     "base_uri": "https://localhost:8080/"
    },
    "executionInfo": {
     "elapsed": 10,
     "status": "ok",
     "timestamp": 1703538912280,
     "user": {
      "displayName": "Tulay Cetin",
      "userId": "01551450039329269511"
     },
     "user_tz": -180
    },
    "id": "8q-oBpQlP_S-",
    "outputId": "1d500729-41d3-48aa-e4c2-39aed2a14828"
   },
   "outputs": [
    {
     "name": "stdout",
     "output_type": "stream",
     "text": [
      "<class 'pandas.core.series.Series'>\n",
      "RangeIndex: 614 entries, 0 to 613\n",
      "Series name: Married\n",
      "Non-Null Count  Dtype \n",
      "--------------  ----- \n",
      "611 non-null    object\n",
      "dtypes: object(1)\n",
      "memory usage: 4.9+ KB\n",
      "\n",
      "None\n",
      "---------------------------\n",
      "count     611\n",
      "unique      2\n",
      "top       Yes\n",
      "freq      398\n",
      "Name: Married, dtype: object\n",
      "---------------------------\n",
      "['No' 'Yes' nan]\n",
      "---------------------------\n",
      "Married\n",
      "Yes    398\n",
      "No     213\n",
      "Name: count, dtype: int64\n",
      "\n"
     ]
    }
   ],
   "source": [
    "print(\"\"\"\n",
    "{}\n",
    "---------------------------\n",
    "{}\n",
    "---------------------------\n",
    "{}\n",
    "---------------------------\n",
    "{}\n",
    "\"\"\".format(df[\"Married\"].info() , df[\"Married\"].describe() , df[\"Married\"].unique() , df[\"Married\"].value_counts()))\n"
   ]
  },
  {
   "cell_type": "code",
   "execution_count": 136,
   "metadata": {
    "colab": {
     "base_uri": "https://localhost:8080/"
    },
    "executionInfo": {
     "elapsed": 688,
     "status": "ok",
     "timestamp": 1703538912959,
     "user": {
      "displayName": "Tulay Cetin",
      "userId": "01551450039329269511"
     },
     "user_tz": -180
    },
    "id": "1kOah91GRorT",
    "outputId": "c3f6455a-ff1d-4f7a-9aa0-cf986847e2a7"
   },
   "outputs": [
    {
     "data": {
      "text/plain": [
       "0      0\n",
       "1      1\n",
       "2      1\n",
       "3      1\n",
       "4      0\n",
       "      ..\n",
       "609    0\n",
       "610    1\n",
       "611    1\n",
       "612    1\n",
       "613    0\n",
       "Name: Married, Length: 614, dtype: int64"
      ]
     },
     "execution_count": 136,
     "metadata": {},
     "output_type": "execute_result"
    }
   ],
   "source": [
    "def married(row):\n",
    "    if(row==\"No\"):\n",
    "        return 0\n",
    "    else:\n",
    "        return 1\n",
    "df[\"Married\"]=df[\"Married\"].apply(married)\n",
    "df[\"Married\"]"
   ]
  },
  {
   "cell_type": "code",
   "execution_count": 137,
   "metadata": {
    "colab": {
     "base_uri": "https://localhost:8080/",
     "height": 466
    },
    "executionInfo": {
     "elapsed": 11,
     "status": "ok",
     "timestamp": 1703538912959,
     "user": {
      "displayName": "Tulay Cetin",
      "userId": "01551450039329269511"
     },
     "user_tz": -180
    },
    "id": "Q6_mGZe1Ro2p",
    "outputId": "55bd2c16-8840-4cef-92e1-342fd236482b"
   },
   "outputs": [
    {
     "data": {
      "text/plain": [
       "<Axes: xlabel='Married', ylabel='count'>"
      ]
     },
     "execution_count": 137,
     "metadata": {},
     "output_type": "execute_result"
    },
    {
     "data": {
      "image/png": "[encoded data removed]",
      "text/plain": [
       "<Figure size 640x480 with 1 Axes>"
      ]
     },
     "metadata": {},
     "output_type": "display_data"
    }
   ],
   "source": [
    "sns.countplot(x=\"Married\",data=df)"
   ]
  },
  {
   "cell_type": "markdown",
   "metadata": {
    "id": "tnrpAmBjVwM7"
   },
   "source": [
    "#Veri Ön İşleme\n",
    "\n",
    "#Gereksiz sütunları kaldıralım ve eksik değerleri işleyelim:"
   ]
  },
  {
   "cell_type": "code",
   "execution_count": 138,
   "metadata": {
    "colab": {
     "base_uri": "https://localhost:8080/"
    },
    "executionInfo": {
     "elapsed": 8,
     "status": "ok",
     "timestamp": 1703538912959,
     "user": {
      "displayName": "Tulay Cetin",
      "userId": "01551450039329269511"
     },
     "user_tz": -180
    },
    "id": "_n8a1aonRo-X",
    "outputId": "659911b1-4b6f-4498-ce92-ebc209373ef0"
   },
   "outputs": [
    {
     "name": "stdout",
     "output_type": "stream",
     "text": [
      "Sütun bulunamadı.\n"
     ]
    }
   ],
   "source": [
    "# LoanID : Silinecek\n",
    "\n",
    "df.drop(\"Loan_ID\",axis=1,inplace=True)\n",
    "try:\n",
    "    print(df[\"Loan_ID\"])\n",
    "except KeyError:\n",
    "    print(\"Sütun bulunamadı.\")"
   ]
  },
  {
   "cell_type": "code",
   "execution_count": 139,
   "metadata": {
    "colab": {
     "base_uri": "https://localhost:8080/",
     "height": 466
    },
    "executionInfo": {
     "elapsed": 653,
     "status": "ok",
     "timestamp": 1703538913605,
     "user": {
      "displayName": "Tulay Cetin",
      "userId": "01551450039329269511"
     },
     "user_tz": -180
    },
    "id": "3XX_x9VyRpEq",
    "outputId": "7bfa71f1-a6da-44a3-9985-51bd894e251e"
   },
   "outputs": [
    {
     "data": {
      "text/plain": [
       "<Axes: xlabel='Dependents', ylabel='count'>"
      ]
     },
     "execution_count": 139,
     "metadata": {},
     "output_type": "execute_result"
    },
    {
     "data": {
      "image/png": "[encoded data removed]",
      "text/plain": [
       "<Figure size 640x480 with 1 Axes>"
      ]
     },
     "metadata": {},
     "output_type": "display_data"
    }
   ],
   "source": [
    "# Dependents (CocukSayisi):Sayısala Dönüşecek Ordinal\n",
    "\n",
    "sns.countplot(x=\"Dependents\",data=df)"
   ]
  },
  {
   "cell_type": "code",
   "execution_count": 140,
   "metadata": {
    "executionInfo": {
     "elapsed": 17,
     "status": "ok",
     "timestamp": 1703538913605,
     "user": {
      "displayName": "Tulay Cetin",
      "userId": "01551450039329269511"
     },
     "user_tz": -180
    },
    "id": "dnDaqWF0RpLJ"
   },
   "outputs": [],
   "source": [
    "def dependents(row):\n",
    "    if(row==\"1\" or row==\"2\" or row==\"3\"):\n",
    "        return 0\n",
    "    else:\n",
    "        return 1\n",
    "\n",
    "def dependents_1(row):\n",
    "    if(row==\"1\"):\n",
    "        return 1\n",
    "    else:\n",
    "        return 0\n",
    "\n",
    "def dependents_2(row):\n",
    "    if(row==\"2\"):\n",
    "        return 1\n",
    "    else:\n",
    "        return 0\n",
    "\n",
    "def dependents_3(row):\n",
    "    if(row==\"3+\"):\n",
    "        return 1\n",
    "    else:\n",
    "        return 0\n",
    "\n",
    "\n"
   ]
  },
  {
   "cell_type": "code",
   "execution_count": 141,
   "metadata": {
    "executionInfo": {
     "elapsed": 17,
     "status": "ok",
     "timestamp": 1703538913605,
     "user": {
      "displayName": "Tulay Cetin",
      "userId": "01551450039329269511"
     },
     "user_tz": -180
    },
    "id": "PZ_PaXTKRpRG"
   },
   "outputs": [],
   "source": [
    "#Bu satırlar, sırasıyla \"Dependents_1\", \"Dependents_2\" ve \"Dependents_3+\" adlı ikili sütunları ekler.\n",
    "#Her biri, ilgili fonksiyonları kullanarak oluşturulur.\n",
    "#Son olarak, artık ihtiyaç duyulmayan \"Dependents\" sütunu veri setinden çıkarılır.\n",
    "\n",
    "df[\"Dependents_0\"]=df[\"Dependents\"].apply(dependents)\n",
    "df[\"Dependents_1\"]=df[\"Dependents\"].apply(dependents_1)\n",
    "df[\"Dependents_2\"]=df[\"Dependents\"].apply(dependents_2)\n",
    "df[\"Dependents_3+\"]=df[\"Dependents\"].apply(dependents_3)\n",
    "df.drop(\"Dependents\",axis=1,inplace=True)"
   ]
  },
  {
   "cell_type": "code",
   "execution_count": 142,
   "metadata": {
    "colab": {
     "base_uri": "https://localhost:8080/",
     "height": 424
    },
    "executionInfo": {
     "elapsed": 17,
     "status": "ok",
     "timestamp": 1703538913605,
     "user": {
      "displayName": "Tulay Cetin",
      "userId": "01551450039329269511"
     },
     "user_tz": -180
    },
    "id": "rOABhhE5RpWy",
    "outputId": "27724ec5-e324-43d8-bfe8-468256bd28b8"
   },
   "outputs": [
    {
     "data": {
      "text/html": [
       "<div>\n",
       "<style scoped>\n",
       "    .dataframe tbody tr th:only-of-type {\n",
       "        vertical-align: middle;\n",
       "    }\n",
       "\n",
       "    .dataframe tbody tr th {\n",
       "        vertical-align: top;\n",
       "    }\n",
       "\n",
       "    .dataframe thead th {\n",
       "        text-align: right;\n",
       "    }\n",
       "</style>\n",
       "<table border=\"1\" class=\"dataframe\">\n",
       "  <thead>\n",
       "    <tr style=\"text-align: right;\">\n",
       "      <th></th>\n",
       "      <th>Dependents_0</th>\n",
       "      <th>Dependents_1</th>\n",
       "      <th>Dependents_2</th>\n",
       "      <th>Dependents_3+</th>\n",
       "    </tr>\n",
       "  </thead>\n",
       "  <tbody>\n",
       "    <tr>\n",
       "      <th>0</th>\n",
       "      <td>1</td>\n",
       "      <td>0</td>\n",
       "      <td>0</td>\n",
       "      <td>0</td>\n",
       "    </tr>\n",
       "    <tr>\n",
       "      <th>1</th>\n",
       "      <td>0</td>\n",
       "      <td>1</td>\n",
       "      <td>0</td>\n",
       "      <td>0</td>\n",
       "    </tr>\n",
       "    <tr>\n",
       "      <th>2</th>\n",
       "      <td>1</td>\n",
       "      <td>0</td>\n",
       "      <td>0</td>\n",
       "      <td>0</td>\n",
       "    </tr>\n",
       "    <tr>\n",
       "      <th>3</th>\n",
       "      <td>1</td>\n",
       "      <td>0</td>\n",
       "      <td>0</td>\n",
       "      <td>0</td>\n",
       "    </tr>\n",
       "    <tr>\n",
       "      <th>4</th>\n",
       "      <td>1</td>\n",
       "      <td>0</td>\n",
       "      <td>0</td>\n",
       "      <td>0</td>\n",
       "    </tr>\n",
       "    <tr>\n",
       "      <th>...</th>\n",
       "      <td>...</td>\n",
       "      <td>...</td>\n",
       "      <td>...</td>\n",
       "      <td>...</td>\n",
       "    </tr>\n",
       "    <tr>\n",
       "      <th>609</th>\n",
       "      <td>1</td>\n",
       "      <td>0</td>\n",
       "      <td>0</td>\n",
       "      <td>0</td>\n",
       "    </tr>\n",
       "    <tr>\n",
       "      <th>610</th>\n",
       "      <td>1</td>\n",
       "      <td>0</td>\n",
       "      <td>0</td>\n",
       "      <td>1</td>\n",
       "    </tr>\n",
       "    <tr>\n",
       "      <th>611</th>\n",
       "      <td>0</td>\n",
       "      <td>1</td>\n",
       "      <td>0</td>\n",
       "      <td>0</td>\n",
       "    </tr>\n",
       "    <tr>\n",
       "      <th>612</th>\n",
       "      <td>0</td>\n",
       "      <td>0</td>\n",
       "      <td>1</td>\n",
       "      <td>0</td>\n",
       "    </tr>\n",
       "    <tr>\n",
       "      <th>613</th>\n",
       "      <td>1</td>\n",
       "      <td>0</td>\n",
       "      <td>0</td>\n",
       "      <td>0</td>\n",
       "    </tr>\n",
       "  </tbody>\n",
       "</table>\n",
       "<p>614 rows × 4 columns</p>\n",
       "</div>"
      ],
      "text/plain": [
       "     Dependents_0  Dependents_1  Dependents_2  Dependents_3+\n",
       "0               1             0             0              0\n",
       "1               0             1             0              0\n",
       "2               1             0             0              0\n",
       "3               1             0             0              0\n",
       "4               1             0             0              0\n",
       "..            ...           ...           ...            ...\n",
       "609             1             0             0              0\n",
       "610             1             0             0              1\n",
       "611             0             1             0              0\n",
       "612             0             0             1              0\n",
       "613             1             0             0              0\n",
       "\n",
       "[614 rows x 4 columns]"
      ]
     },
     "execution_count": 142,
     "metadata": {},
     "output_type": "execute_result"
    }
   ],
   "source": [
    "#DataFrame olan df üzerinden \"Dependents_0\", \"Dependents_1\", \"Dependents_2\", \"Dependents_3+\" adlı dört sütunu\n",
    "#S seçerek bir alt veri seti oluşturuyor.\n",
    "# Bu sütunlar, önceki adımlarda \"Dependents\" sütunundan türetilen ikili sütunlardır.\n",
    "df[[\"Dependents_0\",\"Dependents_1\",\"Dependents_2\",\"Dependents_3+\"]]\n"
   ]
  },
  {
   "cell_type": "code",
   "execution_count": 143,
   "metadata": {
    "colab": {
     "base_uri": "https://localhost:8080/",
     "height": 467
    },
    "executionInfo": {
     "elapsed": 16,
     "status": "ok",
     "timestamp": 1703538913605,
     "user": {
      "displayName": "Tulay Cetin",
      "userId": "01551450039329269511"
     },
     "user_tz": -180
    },
    "id": "fs3KbnITS9oU",
    "outputId": "1aa51b5f-6618-40ee-fb56-7a542978d747"
   },
   "outputs": [
    {
     "data": {
      "text/plain": [
       "<Axes: xlabel='Self_Employed', ylabel='count'>"
      ]
     },
     "execution_count": 143,
     "metadata": {},
     "output_type": "execute_result"
    },
    {
     "data": {
      "image/png": "[encoded data removed]",
      "text/plain": [
       "<Figure size 640x480 with 1 Axes>"
      ]
     },
     "metadata": {},
     "output_type": "display_data"
    }
   ],
   "source": [
    "# SelfEmployed (Patron):\n",
    "# Yes:1\n",
    "# No:0\n",
    "\n",
    "sns.countplot(x=\"Self_Employed\",data=df)"
   ]
  },
  {
   "cell_type": "code",
   "execution_count": 144,
   "metadata": {
    "colab": {
     "base_uri": "https://localhost:8080/"
    },
    "executionInfo": {
     "elapsed": 13,
     "status": "ok",
     "timestamp": 1703538913605,
     "user": {
      "displayName": "Tulay Cetin",
      "userId": "01551450039329269511"
     },
     "user_tz": -180
    },
    "id": "I9XdRgZQS9y2",
    "outputId": "0da67b1c-67b6-4ca3-ec73-6a8170edfa5f"
   },
   "outputs": [
    {
     "data": {
      "text/plain": [
       "0      0\n",
       "1      0\n",
       "2      1\n",
       "3      0\n",
       "4      0\n",
       "      ..\n",
       "609    0\n",
       "610    0\n",
       "611    0\n",
       "612    0\n",
       "613    1\n",
       "Name: Self_Employed, Length: 614, dtype: int64"
      ]
     },
     "execution_count": 144,
     "metadata": {},
     "output_type": "execute_result"
    }
   ],
   "source": [
    "def self_employed(row):\n",
    "    if(row==\"Yes\"):\n",
    "        return 1\n",
    "    else:\n",
    "        return 0\n",
    "df[\"Self_Employed\"]=df[\"Self_Employed\"].apply(self_employed)\n",
    "df[\"Self_Employed\"]"
   ]
  },
  {
   "cell_type": "code",
   "execution_count": 145,
   "metadata": {
    "colab": {
     "base_uri": "https://localhost:8080/",
     "height": 467
    },
    "executionInfo": {
     "elapsed": 12,
     "status": "ok",
     "timestamp": 1703538913605,
     "user": {
      "displayName": "Tulay Cetin",
      "userId": "01551450039329269511"
     },
     "user_tz": -180
    },
    "id": "4wQqboLsTTM7",
    "outputId": "0275def3-844d-428a-f722-ffcf6aaf95f7"
   },
   "outputs": [
    {
     "data": {
      "text/plain": [
       "<Axes: xlabel='Self_Employed', ylabel='count'>"
      ]
     },
     "execution_count": 145,
     "metadata": {},
     "output_type": "execute_result"
    },
    {
     "data": {
      "image/png": "[encoded data removed]",
      "text/plain": [
       "<Figure size 640x480 with 1 Axes>"
      ]
     },
     "metadata": {},
     "output_type": "display_data"
    }
   ],
   "source": [
    "sns.countplot(x=\"Self_Employed\",data=df)"
   ]
  },
  {
   "cell_type": "code",
   "execution_count": 146,
   "metadata": {
    "colab": {
     "base_uri": "https://localhost:8080/",
     "height": 226
    },
    "executionInfo": {
     "elapsed": 10,
     "status": "ok",
     "timestamp": 1703538913605,
     "user": {
      "displayName": "Tulay Cetin",
      "userId": "01551450039329269511"
     },
     "user_tz": -180
    },
    "id": "gYmPM6_sTTWd",
    "outputId": "d43d3d8a-d09c-4c08-ab8e-dfe01ed84cb5"
   },
   "outputs": [
    {
     "data": {
      "text/html": [
       "<div>\n",
       "<style scoped>\n",
       "    .dataframe tbody tr th:only-of-type {\n",
       "        vertical-align: middle;\n",
       "    }\n",
       "\n",
       "    .dataframe tbody tr th {\n",
       "        vertical-align: top;\n",
       "    }\n",
       "\n",
       "    .dataframe thead th {\n",
       "        text-align: right;\n",
       "    }\n",
       "</style>\n",
       "<table border=\"1\" class=\"dataframe\">\n",
       "  <thead>\n",
       "    <tr style=\"text-align: right;\">\n",
       "      <th></th>\n",
       "      <th>Gender</th>\n",
       "      <th>Married</th>\n",
       "      <th>Education</th>\n",
       "      <th>Self_Employed</th>\n",
       "      <th>ApplicantIncome</th>\n",
       "      <th>CoapplicantIncome</th>\n",
       "      <th>LoanAmount</th>\n",
       "      <th>Loan_Amount_Term</th>\n",
       "      <th>Credit_History</th>\n",
       "      <th>Property_Area</th>\n",
       "      <th>Loan_Status</th>\n",
       "      <th>Dependents_0</th>\n",
       "      <th>Dependents_1</th>\n",
       "      <th>Dependents_2</th>\n",
       "      <th>Dependents_3+</th>\n",
       "    </tr>\n",
       "  </thead>\n",
       "  <tbody>\n",
       "    <tr>\n",
       "      <th>0</th>\n",
       "      <td>0</td>\n",
       "      <td>0</td>\n",
       "      <td>1</td>\n",
       "      <td>0</td>\n",
       "      <td>5849</td>\n",
       "      <td>0.0</td>\n",
       "      <td>NaN</td>\n",
       "      <td>360.0</td>\n",
       "      <td>1.0</td>\n",
       "      <td>Urban</td>\n",
       "      <td>Y</td>\n",
       "      <td>1</td>\n",
       "      <td>0</td>\n",
       "      <td>0</td>\n",
       "      <td>0</td>\n",
       "    </tr>\n",
       "    <tr>\n",
       "      <th>1</th>\n",
       "      <td>0</td>\n",
       "      <td>1</td>\n",
       "      <td>1</td>\n",
       "      <td>0</td>\n",
       "      <td>4583</td>\n",
       "      <td>1508.0</td>\n",
       "      <td>128.0</td>\n",
       "      <td>360.0</td>\n",
       "      <td>1.0</td>\n",
       "      <td>Rural</td>\n",
       "      <td>N</td>\n",
       "      <td>0</td>\n",
       "      <td>1</td>\n",
       "      <td>0</td>\n",
       "      <td>0</td>\n",
       "    </tr>\n",
       "    <tr>\n",
       "      <th>2</th>\n",
       "      <td>0</td>\n",
       "      <td>1</td>\n",
       "      <td>1</td>\n",
       "      <td>1</td>\n",
       "      <td>3000</td>\n",
       "      <td>0.0</td>\n",
       "      <td>66.0</td>\n",
       "      <td>360.0</td>\n",
       "      <td>1.0</td>\n",
       "      <td>Urban</td>\n",
       "      <td>Y</td>\n",
       "      <td>1</td>\n",
       "      <td>0</td>\n",
       "      <td>0</td>\n",
       "      <td>0</td>\n",
       "    </tr>\n",
       "    <tr>\n",
       "      <th>3</th>\n",
       "      <td>0</td>\n",
       "      <td>1</td>\n",
       "      <td>0</td>\n",
       "      <td>0</td>\n",
       "      <td>2583</td>\n",
       "      <td>2358.0</td>\n",
       "      <td>120.0</td>\n",
       "      <td>360.0</td>\n",
       "      <td>1.0</td>\n",
       "      <td>Urban</td>\n",
       "      <td>Y</td>\n",
       "      <td>1</td>\n",
       "      <td>0</td>\n",
       "      <td>0</td>\n",
       "      <td>0</td>\n",
       "    </tr>\n",
       "    <tr>\n",
       "      <th>4</th>\n",
       "      <td>0</td>\n",
       "      <td>0</td>\n",
       "      <td>1</td>\n",
       "      <td>0</td>\n",
       "      <td>6000</td>\n",
       "      <td>0.0</td>\n",
       "      <td>141.0</td>\n",
       "      <td>360.0</td>\n",
       "      <td>1.0</td>\n",
       "      <td>Urban</td>\n",
       "      <td>Y</td>\n",
       "      <td>1</td>\n",
       "      <td>0</td>\n",
       "      <td>0</td>\n",
       "      <td>0</td>\n",
       "    </tr>\n",
       "  </tbody>\n",
       "</table>\n",
       "</div>"
      ],
      "text/plain": [
       "   Gender  Married  Education  Self_Employed  ApplicantIncome  \\\n",
       "0       0        0          1              0             5849   \n",
       "1       0        1          1              0             4583   \n",
       "2       0        1          1              1             3000   \n",
       "3       0        1          0              0             2583   \n",
       "4       0        0          1              0             6000   \n",
       "\n",
       "   CoapplicantIncome  LoanAmount  Loan_Amount_Term  Credit_History  \\\n",
       "0                0.0         NaN             360.0             1.0   \n",
       "1             1508.0       128.0             360.0             1.0   \n",
       "2                0.0        66.0             360.0             1.0   \n",
       "3             2358.0       120.0             360.0             1.0   \n",
       "4                0.0       141.0             360.0             1.0   \n",
       "\n",
       "  Property_Area Loan_Status  Dependents_0  Dependents_1  Dependents_2  \\\n",
       "0         Urban           Y             1             0             0   \n",
       "1         Rural           N             0             1             0   \n",
       "2         Urban           Y             1             0             0   \n",
       "3         Urban           Y             1             0             0   \n",
       "4         Urban           Y             1             0             0   \n",
       "\n",
       "   Dependents_3+  \n",
       "0              0  \n",
       "1              0  \n",
       "2              0  \n",
       "3              0  \n",
       "4              0  "
      ]
     },
     "execution_count": 146,
     "metadata": {},
     "output_type": "execute_result"
    }
   ],
   "source": [
    "df.head()"
   ]
  },
  {
   "cell_type": "markdown",
   "metadata": {
    "id": "uLdNSf_ITnoc"
   },
   "source": [
    "# ApplicantIncome (GelirDuzeyi):Olduğu Gibi Kalacak\n",
    "# CoapplicantIncome (EkGelirDuzeyi):Olduğu Gibi Kalacak\n",
    "# LoanAmount (KrediMiktarı):Olduğu Gibi Kalacak\n",
    "# Loan_Amount_Term (KrediVadesi):Olduğu Gibi Kalacak\n",
    "# Credit_History (OncedenKrediAlmismi):Olduğu Gibi Kalacak\n",
    "#sutunların null olan degerlerine sutunun genel ortalamasını alıp null degerlerin içine yazıyoruz yapılan  işlemler bu yonde ilerleyecek"
   ]
  },
  {
   "cell_type": "code",
   "execution_count": 147,
   "metadata": {
    "colab": {
     "base_uri": "https://localhost:8080/"
    },
    "executionInfo": {
     "elapsed": 10,
     "status": "ok",
     "timestamp": 1703538913605,
     "user": {
      "displayName": "Tulay Cetin",
      "userId": "01551450039329269511"
     },
     "user_tz": -180
    },
    "id": "vw-797UZS954",
    "outputId": "d495cc78-89a1-4d2b-9348-5bdb1c2f56e7"
   },
   "outputs": [
    {
     "data": {
      "text/plain": [
       "ApplicantIncome       0\n",
       "CoapplicantIncome     0\n",
       "LoanAmount           22\n",
       "Loan_Amount_Term     14\n",
       "Credit_History       50\n",
       "dtype: int64"
      ]
     },
     "execution_count": 147,
     "metadata": {},
     "output_type": "execute_result"
    }
   ],
   "source": [
    "#stunlarda null deger varmı kontrol edilecek\n",
    "df[[\"ApplicantIncome\",\"CoapplicantIncome\",\"LoanAmount\",\"Loan_Amount_Term\",\"Credit_History\"]].isnull().sum()"
   ]
  },
  {
   "cell_type": "code",
   "execution_count": 148,
   "metadata": {
    "colab": {
     "base_uri": "https://localhost:8080/",
     "height": 574
    },
    "executionInfo": {
     "elapsed": 581,
     "status": "ok",
     "timestamp": 1703538914177,
     "user": {
      "displayName": "Tulay Cetin",
      "userId": "01551450039329269511"
     },
     "user_tz": -180
    },
    "id": "y5BWpxUxTzp6",
    "outputId": "d560e3b7-9d8c-4494-80a5-29fa22b16bb3"
   },
   "outputs": [
    {
     "data": {
      "text/plain": [
       "<Axes: >"
      ]
     },
     "execution_count": 148,
     "metadata": {},
     "output_type": "execute_result"
    },
    {
     "data": {
      "image/png": "[encoded data removed]",
      "text/plain": [
       "<Figure size 640x480 with 2 Axes>"
      ]
     },
     "metadata": {},
     "output_type": "display_data"
    }
   ],
   "source": [
    "sns.heatmap(df[[\"ApplicantIncome\",\"CoapplicantIncome\",\"LoanAmount\",\n",
    "                \"Loan_Amount_Term\",\"Credit_History\"]].isnull(),yticklabels=False,cmap=\"viridis\")\n",
    "#loanAmount Loan_Amount Credit_History degerleri null oldugunu map grafiğinde de göruluyor"
   ]
  },
  {
   "cell_type": "code",
   "execution_count": 149,
   "metadata": {
    "colab": {
     "base_uri": "https://localhost:8080/"
    },
    "executionInfo": {
     "elapsed": 26,
     "status": "ok",
     "timestamp": 1703538914177,
     "user": {
      "displayName": "Tulay Cetin",
      "userId": "01551450039329269511"
     },
     "user_tz": -180
    },
    "id": "z4787BAXTz0D",
    "outputId": "2858bc68-80f2-436b-e72e-7fceec350ce1"
   },
   "outputs": [
    {
     "data": {
      "text/plain": [
       "np.float64(146.41216216216216)"
      ]
     },
     "execution_count": 149,
     "metadata": {},
     "output_type": "execute_result"
    }
   ],
   "source": [
    "# LoanAmount\" sütunundaki değerleri inceleyerek, eğer bir değer negatif değilse veya sıfır değilse,\n",
    "# o değeri korur; aksi takdirde, değeri 146.412162 ile değiştirir.\n",
    "\n",
    "df[\"LoanAmount\"].describe()[1] #sutunun istatiksel verilerinden olan mean(ortalama)  dondurur\n"
   ]
  },
  {
   "cell_type": "code",
   "execution_count": 150,
   "metadata": {
    "executionInfo": {
     "elapsed": 24,
     "status": "ok",
     "timestamp": 1703538914177,
     "user": {
      "displayName": "Tulay Cetin",
      "userId": "01551450039329269511"
     },
     "user_tz": -180
    },
    "id": "pDs4U1YhTz8W"
   },
   "outputs": [],
   "source": [
    "def loan_amount(row):\n",
    "    if(row<0 or row>=0):\n",
    "        return row\n",
    "    else:\n",
    "        return 146.412162"
   ]
  },
  {
   "cell_type": "code",
   "execution_count": 151,
   "metadata": {
    "colab": {
     "base_uri": "https://localhost:8080/"
    },
    "executionInfo": {
     "elapsed": 24,
     "status": "ok",
     "timestamp": 1703538914177,
     "user": {
      "displayName": "Tulay Cetin",
      "userId": "01551450039329269511"
     },
     "user_tz": -180
    },
    "id": "6mF3QXHUT0Eh",
    "outputId": "c0eaec43-d2ba-4a4e-ef28-32122e4e4c0d"
   },
   "outputs": [
    {
     "data": {
      "text/plain": [
       "np.float64(342.0)"
      ]
     },
     "execution_count": 151,
     "metadata": {},
     "output_type": "execute_result"
    }
   ],
   "source": [
    "df[\"Loan_Amount_Term\"].describe()[1]"
   ]
  },
  {
   "cell_type": "code",
   "execution_count": 152,
   "metadata": {
    "executionInfo": {
     "elapsed": 21,
     "status": "ok",
     "timestamp": 1703538914177,
     "user": {
      "displayName": "Tulay Cetin",
      "userId": "01551450039329269511"
     },
     "user_tz": -180
    },
    "id": "BD1Mwuq3T0Ma"
   },
   "outputs": [],
   "source": [
    "def loan_amount_term(row):\n",
    "    if(row<0 or row>=0):\n",
    "        return row\n",
    "    else:\n",
    "        return 342.00000"
   ]
  },
  {
   "cell_type": "code",
   "execution_count": 153,
   "metadata": {
    "colab": {
     "base_uri": "https://localhost:8080/"
    },
    "executionInfo": {
     "elapsed": 21,
     "status": "ok",
     "timestamp": 1703538914177,
     "user": {
      "displayName": "Tulay Cetin",
      "userId": "01551450039329269511"
     },
     "user_tz": -180
    },
    "id": "SGj46r8cT0Tw",
    "outputId": "be5ca8d0-3cdc-4ab8-bc4b-f7575e144ad7"
   },
   "outputs": [
    {
     "data": {
      "text/plain": [
       "np.float64(0.8421985815602837)"
      ]
     },
     "execution_count": 153,
     "metadata": {},
     "output_type": "execute_result"
    }
   ],
   "source": [
    "df[\"Credit_History\"].describe()[1]"
   ]
  },
  {
   "cell_type": "code",
   "execution_count": 154,
   "metadata": {
    "executionInfo": {
     "elapsed": 18,
     "status": "ok",
     "timestamp": 1703538914177,
     "user": {
      "displayName": "Tulay Cetin",
      "userId": "01551450039329269511"
     },
     "user_tz": -180
    },
    "id": "e5U2i3z6T0a7"
   },
   "outputs": [],
   "source": [
    "def credit_history(row):\n",
    "    if(row<0 or row>=0):\n",
    "        return row\n",
    "    else:\n",
    "        return 0.842199"
   ]
  },
  {
   "cell_type": "code",
   "execution_count": 155,
   "metadata": {
    "executionInfo": {
     "elapsed": 17,
     "status": "ok",
     "timestamp": 1703538914177,
     "user": {
      "displayName": "Tulay Cetin",
      "userId": "01551450039329269511"
     },
     "user_tz": -180
    },
    "id": "Xjk8SPr_T0hu"
   },
   "outputs": [],
   "source": [
    "df[\"LoanAmount\"]=df[\"LoanAmount\"].apply(loan_amount)\n",
    "df[\"Loan_Amount_Term\"]=df[\"Loan_Amount_Term\"].apply(loan_amount_term)\n",
    "df[\"Credit_History\"]=df[\"Credit_History\"].apply(credit_history)"
   ]
  },
  {
   "cell_type": "code",
   "execution_count": 156,
   "metadata": {
    "colab": {
     "base_uri": "https://localhost:8080/",
     "height": 226
    },
    "executionInfo": {
     "elapsed": 17,
     "status": "ok",
     "timestamp": 1703538914177,
     "user": {
      "displayName": "Tulay Cetin",
      "userId": "01551450039329269511"
     },
     "user_tz": -180
    },
    "id": "RiJIN9DaT0oX",
    "outputId": "fab92af4-b264-4335-8e09-233f85a08e83"
   },
   "outputs": [
    {
     "data": {
      "text/html": [
       "<div>\n",
       "<style scoped>\n",
       "    .dataframe tbody tr th:only-of-type {\n",
       "        vertical-align: middle;\n",
       "    }\n",
       "\n",
       "    .dataframe tbody tr th {\n",
       "        vertical-align: top;\n",
       "    }\n",
       "\n",
       "    .dataframe thead th {\n",
       "        text-align: right;\n",
       "    }\n",
       "</style>\n",
       "<table border=\"1\" class=\"dataframe\">\n",
       "  <thead>\n",
       "    <tr style=\"text-align: right;\">\n",
       "      <th></th>\n",
       "      <th>Gender</th>\n",
       "      <th>Married</th>\n",
       "      <th>Education</th>\n",
       "      <th>Self_Employed</th>\n",
       "      <th>ApplicantIncome</th>\n",
       "      <th>CoapplicantIncome</th>\n",
       "      <th>LoanAmount</th>\n",
       "      <th>Loan_Amount_Term</th>\n",
       "      <th>Credit_History</th>\n",
       "      <th>Property_Area</th>\n",
       "      <th>Loan_Status</th>\n",
       "      <th>Dependents_0</th>\n",
       "      <th>Dependents_1</th>\n",
       "      <th>Dependents_2</th>\n",
       "      <th>Dependents_3+</th>\n",
       "    </tr>\n",
       "  </thead>\n",
       "  <tbody>\n",
       "    <tr>\n",
       "      <th>0</th>\n",
       "      <td>0</td>\n",
       "      <td>0</td>\n",
       "      <td>1</td>\n",
       "      <td>0</td>\n",
       "      <td>5849</td>\n",
       "      <td>0.0</td>\n",
       "      <td>146.412162</td>\n",
       "      <td>360.0</td>\n",
       "      <td>1.0</td>\n",
       "      <td>Urban</td>\n",
       "      <td>Y</td>\n",
       "      <td>1</td>\n",
       "      <td>0</td>\n",
       "      <td>0</td>\n",
       "      <td>0</td>\n",
       "    </tr>\n",
       "    <tr>\n",
       "      <th>1</th>\n",
       "      <td>0</td>\n",
       "      <td>1</td>\n",
       "      <td>1</td>\n",
       "      <td>0</td>\n",
       "      <td>4583</td>\n",
       "      <td>1508.0</td>\n",
       "      <td>128.000000</td>\n",
       "      <td>360.0</td>\n",
       "      <td>1.0</td>\n",
       "      <td>Rural</td>\n",
       "      <td>N</td>\n",
       "      <td>0</td>\n",
       "      <td>1</td>\n",
       "      <td>0</td>\n",
       "      <td>0</td>\n",
       "    </tr>\n",
       "    <tr>\n",
       "      <th>2</th>\n",
       "      <td>0</td>\n",
       "      <td>1</td>\n",
       "      <td>1</td>\n",
       "      <td>1</td>\n",
       "      <td>3000</td>\n",
       "      <td>0.0</td>\n",
       "      <td>66.000000</td>\n",
       "      <td>360.0</td>\n",
       "      <td>1.0</td>\n",
       "      <td>Urban</td>\n",
       "      <td>Y</td>\n",
       "      <td>1</td>\n",
       "      <td>0</td>\n",
       "      <td>0</td>\n",
       "      <td>0</td>\n",
       "    </tr>\n",
       "    <tr>\n",
       "      <th>3</th>\n",
       "      <td>0</td>\n",
       "      <td>1</td>\n",
       "      <td>0</td>\n",
       "      <td>0</td>\n",
       "      <td>2583</td>\n",
       "      <td>2358.0</td>\n",
       "      <td>120.000000</td>\n",
       "      <td>360.0</td>\n",
       "      <td>1.0</td>\n",
       "      <td>Urban</td>\n",
       "      <td>Y</td>\n",
       "      <td>1</td>\n",
       "      <td>0</td>\n",
       "      <td>0</td>\n",
       "      <td>0</td>\n",
       "    </tr>\n",
       "    <tr>\n",
       "      <th>4</th>\n",
       "      <td>0</td>\n",
       "      <td>0</td>\n",
       "      <td>1</td>\n",
       "      <td>0</td>\n",
       "      <td>6000</td>\n",
       "      <td>0.0</td>\n",
       "      <td>141.000000</td>\n",
       "      <td>360.0</td>\n",
       "      <td>1.0</td>\n",
       "      <td>Urban</td>\n",
       "      <td>Y</td>\n",
       "      <td>1</td>\n",
       "      <td>0</td>\n",
       "      <td>0</td>\n",
       "      <td>0</td>\n",
       "    </tr>\n",
       "  </tbody>\n",
       "</table>\n",
       "</div>"
      ],
      "text/plain": [
       "   Gender  Married  Education  Self_Employed  ApplicantIncome  \\\n",
       "0       0        0          1              0             5849   \n",
       "1       0        1          1              0             4583   \n",
       "2       0        1          1              1             3000   \n",
       "3       0        1          0              0             2583   \n",
       "4       0        0          1              0             6000   \n",
       "\n",
       "   CoapplicantIncome  LoanAmount  Loan_Amount_Term  Credit_History  \\\n",
       "0                0.0  146.412162             360.0             1.0   \n",
       "1             1508.0  128.000000             360.0             1.0   \n",
       "2                0.0   66.000000             360.0             1.0   \n",
       "3             2358.0  120.000000             360.0             1.0   \n",
       "4                0.0  141.000000             360.0             1.0   \n",
       "\n",
       "  Property_Area Loan_Status  Dependents_0  Dependents_1  Dependents_2  \\\n",
       "0         Urban           Y             1             0             0   \n",
       "1         Rural           N             0             1             0   \n",
       "2         Urban           Y             1             0             0   \n",
       "3         Urban           Y             1             0             0   \n",
       "4         Urban           Y             1             0             0   \n",
       "\n",
       "   Dependents_3+  \n",
       "0              0  \n",
       "1              0  \n",
       "2              0  \n",
       "3              0  \n",
       "4              0  "
      ]
     },
     "execution_count": 156,
     "metadata": {},
     "output_type": "execute_result"
    }
   ],
   "source": [
    "df.head()"
   ]
  },
  {
   "cell_type": "markdown",
   "metadata": {
    "id": "33hQ3Xy1UsW6"
   },
   "source": [
    "#Property_Area (one hot encode): Urban=Kentsel Rural=Kırsal semiurban=Yarı_kentsel\n",
    "#degerleride sayısallaştırmamız gerekiyor"
   ]
  },
  {
   "cell_type": "code",
   "execution_count": 157,
   "metadata": {
    "colab": {
     "base_uri": "https://localhost:8080/",
     "height": 466
    },
    "executionInfo": {
     "elapsed": 16,
     "status": "ok",
     "timestamp": 1703538914178,
     "user": {
      "displayName": "Tulay Cetin",
      "userId": "01551450039329269511"
     },
     "user_tz": -180
    },
    "id": "fCZvtyrkT0ud",
    "outputId": "cdf9f6e5-07d3-4b19-ff84-fbdd5ef7b17a"
   },
   "outputs": [
    {
     "data": {
      "text/plain": [
       "<Axes: xlabel='Property_Area', ylabel='count'>"
      ]
     },
     "execution_count": 157,
     "metadata": {},
     "output_type": "execute_result"
    },
    {
     "data": {
      "image/png": "[encoded data removed]",
      "text/plain": [
       "<Figure size 640x480 with 1 Axes>"
      ]
     },
     "metadata": {},
     "output_type": "display_data"
    }
   ],
   "source": [
    "sns.countplot(x=\"Property_Area\",data=df)"
   ]
  },
  {
   "cell_type": "code",
   "execution_count": 158,
   "metadata": {
    "executionInfo": {
     "elapsed": 14,
     "status": "ok",
     "timestamp": 1703538914178,
     "user": {
      "displayName": "Tulay Cetin",
      "userId": "01551450039329269511"
     },
     "user_tz": -180
    },
    "id": "eknOjV8rT00v"
   },
   "outputs": [],
   "source": [
    "def propertyAreaUrban(row):\n",
    "    if(row==\"Urban\"):\n",
    "        return 1\n",
    "    else:\n",
    "        return 0\n",
    "def propertyAreaRural(row):\n",
    "    if(row==\"Rural\"):\n",
    "        return 1\n",
    "    else:\n",
    "        return 0\n",
    "def propertyAreaSemiurban(row):\n",
    "    if(row==\"Semiurban\"):\n",
    "        return 1\n",
    "    else:\n",
    "        return 0"
   ]
  },
  {
   "cell_type": "code",
   "execution_count": 159,
   "metadata": {
    "executionInfo": {
     "elapsed": 13,
     "status": "ok",
     "timestamp": 1703538914178,
     "user": {
      "displayName": "Tulay Cetin",
      "userId": "01551450039329269511"
     },
     "user_tz": -180
    },
    "id": "UyN6GNC-T06t"
   },
   "outputs": [],
   "source": [
    "df[\"Kentsel\"]=df[\"Property_Area\"].apply(propertyAreaUrban)\n",
    "df[\"Kırsal\"]=df[\"Property_Area\"].apply(propertyAreaRural)\n",
    "df[\"Yarı_kentsel\"]=df[\"Property_Area\"].apply(propertyAreaSemiurban)\n",
    "df.drop(\"Property_Area\",axis=1,inplace=True)"
   ]
  },
  {
   "cell_type": "code",
   "execution_count": 160,
   "metadata": {
    "colab": {
     "base_uri": "https://localhost:8080/",
     "height": 424
    },
    "executionInfo": {
     "elapsed": 13,
     "status": "ok",
     "timestamp": 1703538914178,
     "user": {
      "displayName": "Tulay Cetin",
      "userId": "01551450039329269511"
     },
     "user_tz": -180
    },
    "id": "tD1vpYorT0_u",
    "outputId": "558a7094-2f81-4543-aceb-23694d096346"
   },
   "outputs": [
    {
     "data": {
      "text/html": [
       "<div>\n",
       "<style scoped>\n",
       "    .dataframe tbody tr th:only-of-type {\n",
       "        vertical-align: middle;\n",
       "    }\n",
       "\n",
       "    .dataframe tbody tr th {\n",
       "        vertical-align: top;\n",
       "    }\n",
       "\n",
       "    .dataframe thead th {\n",
       "        text-align: right;\n",
       "    }\n",
       "</style>\n",
       "<table border=\"1\" class=\"dataframe\">\n",
       "  <thead>\n",
       "    <tr style=\"text-align: right;\">\n",
       "      <th></th>\n",
       "      <th>Kentsel</th>\n",
       "      <th>Kırsal</th>\n",
       "      <th>Yarı_kentsel</th>\n",
       "    </tr>\n",
       "  </thead>\n",
       "  <tbody>\n",
       "    <tr>\n",
       "      <th>0</th>\n",
       "      <td>1</td>\n",
       "      <td>0</td>\n",
       "      <td>0</td>\n",
       "    </tr>\n",
       "    <tr>\n",
       "      <th>1</th>\n",
       "      <td>0</td>\n",
       "      <td>1</td>\n",
       "      <td>0</td>\n",
       "    </tr>\n",
       "    <tr>\n",
       "      <th>2</th>\n",
       "      <td>1</td>\n",
       "      <td>0</td>\n",
       "      <td>0</td>\n",
       "    </tr>\n",
       "    <tr>\n",
       "      <th>3</th>\n",
       "      <td>1</td>\n",
       "      <td>0</td>\n",
       "      <td>0</td>\n",
       "    </tr>\n",
       "    <tr>\n",
       "      <th>4</th>\n",
       "      <td>1</td>\n",
       "      <td>0</td>\n",
       "      <td>0</td>\n",
       "    </tr>\n",
       "    <tr>\n",
       "      <th>...</th>\n",
       "      <td>...</td>\n",
       "      <td>...</td>\n",
       "      <td>...</td>\n",
       "    </tr>\n",
       "    <tr>\n",
       "      <th>609</th>\n",
       "      <td>0</td>\n",
       "      <td>1</td>\n",
       "      <td>0</td>\n",
       "    </tr>\n",
       "    <tr>\n",
       "      <th>610</th>\n",
       "      <td>0</td>\n",
       "      <td>1</td>\n",
       "      <td>0</td>\n",
       "    </tr>\n",
       "    <tr>\n",
       "      <th>611</th>\n",
       "      <td>1</td>\n",
       "      <td>0</td>\n",
       "      <td>0</td>\n",
       "    </tr>\n",
       "    <tr>\n",
       "      <th>612</th>\n",
       "      <td>1</td>\n",
       "      <td>0</td>\n",
       "      <td>0</td>\n",
       "    </tr>\n",
       "    <tr>\n",
       "      <th>613</th>\n",
       "      <td>0</td>\n",
       "      <td>0</td>\n",
       "      <td>1</td>\n",
       "    </tr>\n",
       "  </tbody>\n",
       "</table>\n",
       "<p>614 rows × 3 columns</p>\n",
       "</div>"
      ],
      "text/plain": [
       "     Kentsel  Kırsal  Yarı_kentsel\n",
       "0          1       0             0\n",
       "1          0       1             0\n",
       "2          1       0             0\n",
       "3          1       0             0\n",
       "4          1       0             0\n",
       "..       ...     ...           ...\n",
       "609        0       1             0\n",
       "610        0       1             0\n",
       "611        1       0             0\n",
       "612        1       0             0\n",
       "613        0       0             1\n",
       "\n",
       "[614 rows x 3 columns]"
      ]
     },
     "execution_count": 160,
     "metadata": {},
     "output_type": "execute_result"
    }
   ],
   "source": [
    "df[[\"Kentsel\",\"Kırsal\",\"Yarı_kentsel\"]]\n"
   ]
  },
  {
   "cell_type": "code",
   "execution_count": 161,
   "metadata": {
    "colab": {
     "base_uri": "https://localhost:8080/",
     "height": 226
    },
    "executionInfo": {
     "elapsed": 13,
     "status": "ok",
     "timestamp": 1703538914178,
     "user": {
      "displayName": "Tulay Cetin",
      "userId": "01551450039329269511"
     },
     "user_tz": -180
    },
    "id": "SVoi1Ys5VBrc",
    "outputId": "60faec3a-d485-4fbd-aab2-739ac9c8dbf5"
   },
   "outputs": [
    {
     "data": {
      "text/html": [
       "<div>\n",
       "<style scoped>\n",
       "    .dataframe tbody tr th:only-of-type {\n",
       "        vertical-align: middle;\n",
       "    }\n",
       "\n",
       "    .dataframe tbody tr th {\n",
       "        vertical-align: top;\n",
       "    }\n",
       "\n",
       "    .dataframe thead th {\n",
       "        text-align: right;\n",
       "    }\n",
       "</style>\n",
       "<table border=\"1\" class=\"dataframe\">\n",
       "  <thead>\n",
       "    <tr style=\"text-align: right;\">\n",
       "      <th></th>\n",
       "      <th>Gender</th>\n",
       "      <th>Married</th>\n",
       "      <th>Education</th>\n",
       "      <th>Self_Employed</th>\n",
       "      <th>ApplicantIncome</th>\n",
       "      <th>CoapplicantIncome</th>\n",
       "      <th>LoanAmount</th>\n",
       "      <th>Loan_Amount_Term</th>\n",
       "      <th>Credit_History</th>\n",
       "      <th>Loan_Status</th>\n",
       "      <th>Dependents_0</th>\n",
       "      <th>Dependents_1</th>\n",
       "      <th>Dependents_2</th>\n",
       "      <th>Dependents_3+</th>\n",
       "      <th>Kentsel</th>\n",
       "      <th>Kırsal</th>\n",
       "      <th>Yarı_kentsel</th>\n",
       "    </tr>\n",
       "  </thead>\n",
       "  <tbody>\n",
       "    <tr>\n",
       "      <th>0</th>\n",
       "      <td>0</td>\n",
       "      <td>0</td>\n",
       "      <td>1</td>\n",
       "      <td>0</td>\n",
       "      <td>5849</td>\n",
       "      <td>0.0</td>\n",
       "      <td>146.412162</td>\n",
       "      <td>360.0</td>\n",
       "      <td>1.0</td>\n",
       "      <td>Y</td>\n",
       "      <td>1</td>\n",
       "      <td>0</td>\n",
       "      <td>0</td>\n",
       "      <td>0</td>\n",
       "      <td>1</td>\n",
       "      <td>0</td>\n",
       "      <td>0</td>\n",
       "    </tr>\n",
       "    <tr>\n",
       "      <th>1</th>\n",
       "      <td>0</td>\n",
       "      <td>1</td>\n",
       "      <td>1</td>\n",
       "      <td>0</td>\n",
       "      <td>4583</td>\n",
       "      <td>1508.0</td>\n",
       "      <td>128.000000</td>\n",
       "      <td>360.0</td>\n",
       "      <td>1.0</td>\n",
       "      <td>N</td>\n",
       "      <td>0</td>\n",
       "      <td>1</td>\n",
       "      <td>0</td>\n",
       "      <td>0</td>\n",
       "      <td>0</td>\n",
       "      <td>1</td>\n",
       "      <td>0</td>\n",
       "    </tr>\n",
       "    <tr>\n",
       "      <th>2</th>\n",
       "      <td>0</td>\n",
       "      <td>1</td>\n",
       "      <td>1</td>\n",
       "      <td>1</td>\n",
       "      <td>3000</td>\n",
       "      <td>0.0</td>\n",
       "      <td>66.000000</td>\n",
       "      <td>360.0</td>\n",
       "      <td>1.0</td>\n",
       "      <td>Y</td>\n",
       "      <td>1</td>\n",
       "      <td>0</td>\n",
       "      <td>0</td>\n",
       "      <td>0</td>\n",
       "      <td>1</td>\n",
       "      <td>0</td>\n",
       "      <td>0</td>\n",
       "    </tr>\n",
       "    <tr>\n",
       "      <th>3</th>\n",
       "      <td>0</td>\n",
       "      <td>1</td>\n",
       "      <td>0</td>\n",
       "      <td>0</td>\n",
       "      <td>2583</td>\n",
       "      <td>2358.0</td>\n",
       "      <td>120.000000</td>\n",
       "      <td>360.0</td>\n",
       "      <td>1.0</td>\n",
       "      <td>Y</td>\n",
       "      <td>1</td>\n",
       "      <td>0</td>\n",
       "      <td>0</td>\n",
       "      <td>0</td>\n",
       "      <td>1</td>\n",
       "      <td>0</td>\n",
       "      <td>0</td>\n",
       "    </tr>\n",
       "    <tr>\n",
       "      <th>4</th>\n",
       "      <td>0</td>\n",
       "      <td>0</td>\n",
       "      <td>1</td>\n",
       "      <td>0</td>\n",
       "      <td>6000</td>\n",
       "      <td>0.0</td>\n",
       "      <td>141.000000</td>\n",
       "      <td>360.0</td>\n",
       "      <td>1.0</td>\n",
       "      <td>Y</td>\n",
       "      <td>1</td>\n",
       "      <td>0</td>\n",
       "      <td>0</td>\n",
       "      <td>0</td>\n",
       "      <td>1</td>\n",
       "      <td>0</td>\n",
       "      <td>0</td>\n",
       "    </tr>\n",
       "  </tbody>\n",
       "</table>\n",
       "</div>"
      ],
      "text/plain": [
       "   Gender  Married  Education  Self_Employed  ApplicantIncome  \\\n",
       "0       0        0          1              0             5849   \n",
       "1       0        1          1              0             4583   \n",
       "2       0        1          1              1             3000   \n",
       "3       0        1          0              0             2583   \n",
       "4       0        0          1              0             6000   \n",
       "\n",
       "   CoapplicantIncome  LoanAmount  Loan_Amount_Term  Credit_History  \\\n",
       "0                0.0  146.412162             360.0             1.0   \n",
       "1             1508.0  128.000000             360.0             1.0   \n",
       "2                0.0   66.000000             360.0             1.0   \n",
       "3             2358.0  120.000000             360.0             1.0   \n",
       "4                0.0  141.000000             360.0             1.0   \n",
       "\n",
       "  Loan_Status  Dependents_0  Dependents_1  Dependents_2  Dependents_3+  \\\n",
       "0           Y             1             0             0              0   \n",
       "1           N             0             1             0              0   \n",
       "2           Y             1             0             0              0   \n",
       "3           Y             1             0             0              0   \n",
       "4           Y             1             0             0              0   \n",
       "\n",
       "   Kentsel  Kırsal  Yarı_kentsel  \n",
       "0        1       0             0  \n",
       "1        0       1             0  \n",
       "2        1       0             0  \n",
       "3        1       0             0  \n",
       "4        1       0             0  "
      ]
     },
     "execution_count": 161,
     "metadata": {},
     "output_type": "execute_result"
    }
   ],
   "source": [
    "df.head()"
   ]
  },
  {
   "cell_type": "markdown",
   "metadata": {
    "id": "D3jCnWXAV-e_"
   },
   "source": [
    "<!-- Loan_Status (KrediyeUygun):\n",
    "Bu alan y olarak farklı bir dataframe olacak ve bu tahmin ettirilecek eğitim ve tets dataframe'inden çıkarılacak\n",
    "Yes:1\n",
    "No:0 -->"
   ]
  },
  {
   "cell_type": "markdown",
   "metadata": {
    "id": "kNDz6GcGWEy3"
   },
   "source": [
    "#Loan_Status (KrediyeUygun):\n",
    "#Bu alan y olarak farklı bir dataframe olacak ve bu tahmin ettirilecek eğitim ve test dataframe'inden çıkarılacak\n",
    "#Yes:1\n",
    "#No:0"
   ]
  },
  {
   "cell_type": "code",
   "execution_count": 162,
   "metadata": {
    "colab": {
     "base_uri": "https://localhost:8080/",
     "height": 466
    },
    "executionInfo": {
     "elapsed": 628,
     "status": "ok",
     "timestamp": 1703538914795,
     "user": {
      "displayName": "Tulay Cetin",
      "userId": "01551450039329269511"
     },
     "user_tz": -180
    },
    "id": "S35S_PF0W1wb",
    "outputId": "8c8f43c3-02fe-4c8e-8572-8ac87327119b"
   },
   "outputs": [
    {
     "data": {
      "text/plain": [
       "<Axes: xlabel='Loan_Status', ylabel='count'>"
      ]
     },
     "execution_count": 162,
     "metadata": {},
     "output_type": "execute_result"
    },
    {
     "data": {
      "image/png": "[encoded data removed]",
      "text/plain": [
       "<Figure size 640x480 with 1 Axes>"
      ]
     },
     "metadata": {},
     "output_type": "display_data"
    }
   ],
   "source": [
    "sns.countplot(x=\"Loan_Status\",data=df)"
   ]
  },
  {
   "cell_type": "code",
   "execution_count": 163,
   "metadata": {
    "colab": {
     "base_uri": "https://localhost:8080/",
     "height": 206
    },
    "executionInfo": {
     "elapsed": 23,
     "status": "ok",
     "timestamp": 1703538914795,
     "user": {
      "displayName": "Tulay Cetin",
      "userId": "01551450039329269511"
     },
     "user_tz": -180
    },
    "id": "DgjWkshrW19j",
    "outputId": "7383c274-860d-482b-a7c1-940e457183f6"
   },
   "outputs": [
    {
     "data": {
      "text/html": [
       "<div>\n",
       "<style scoped>\n",
       "    .dataframe tbody tr th:only-of-type {\n",
       "        vertical-align: middle;\n",
       "    }\n",
       "\n",
       "    .dataframe tbody tr th {\n",
       "        vertical-align: top;\n",
       "    }\n",
       "\n",
       "    .dataframe thead th {\n",
       "        text-align: right;\n",
       "    }\n",
       "</style>\n",
       "<table border=\"1\" class=\"dataframe\">\n",
       "  <thead>\n",
       "    <tr style=\"text-align: right;\">\n",
       "      <th></th>\n",
       "      <th>Loan_Status</th>\n",
       "    </tr>\n",
       "  </thead>\n",
       "  <tbody>\n",
       "    <tr>\n",
       "      <th>0</th>\n",
       "      <td>Y</td>\n",
       "    </tr>\n",
       "    <tr>\n",
       "      <th>1</th>\n",
       "      <td>N</td>\n",
       "    </tr>\n",
       "    <tr>\n",
       "      <th>2</th>\n",
       "      <td>Y</td>\n",
       "    </tr>\n",
       "    <tr>\n",
       "      <th>3</th>\n",
       "      <td>Y</td>\n",
       "    </tr>\n",
       "    <tr>\n",
       "      <th>4</th>\n",
       "      <td>Y</td>\n",
       "    </tr>\n",
       "  </tbody>\n",
       "</table>\n",
       "</div>"
      ],
      "text/plain": [
       "  Loan_Status\n",
       "0           Y\n",
       "1           N\n",
       "2           Y\n",
       "3           Y\n",
       "4           Y"
      ]
     },
     "execution_count": 163,
     "metadata": {},
     "output_type": "execute_result"
    }
   ],
   "source": [
    "y=pd.DataFrame(df,columns=[\"Loan_Status\"])\n",
    "y.head()\n",
    "#kredi onayını bir dgere atıyoruz ardından veri setinde siliyoruz onu ayrı bir veri seti halıne getiriyoruz"
   ]
  },
  {
   "cell_type": "code",
   "execution_count": 164,
   "metadata": {
    "colab": {
     "base_uri": "https://localhost:8080/"
    },
    "executionInfo": {
     "elapsed": 21,
     "status": "ok",
     "timestamp": 1703538914795,
     "user": {
      "displayName": "Tulay Cetin",
      "userId": "01551450039329269511"
     },
     "user_tz": -180
    },
    "id": "1jFhUaugDRvd",
    "outputId": "d381381d-4978-4a75-c8c3-0c91e2e15dd0"
   },
   "outputs": [
    {
     "name": "stdout",
     "output_type": "stream",
     "text": [
      "Silinecek kolon yok.\n"
     ]
    }
   ],
   "source": [
    "df.drop(\"Loan_Status\",axis=1,inplace=True)\n",
    "\n",
    "try:\n",
    "    df2.drop(\"Loan_Status\",axis=1,inplace=True)\n",
    "except KeyError:\n",
    "    print(\"Silinecek kolon yok.\")"
   ]
  },
  {
   "cell_type": "code",
   "execution_count": 165,
   "metadata": {
    "colab": {
     "base_uri": "https://localhost:8080/"
    },
    "executionInfo": {
     "elapsed": 18,
     "status": "ok",
     "timestamp": 1703538914795,
     "user": {
      "displayName": "Tulay Cetin",
      "userId": "01551450039329269511"
     },
     "user_tz": -180
    },
    "id": "-c__hyxvVCII",
    "outputId": "b47eb74d-b39c-4eb1-a16f-fdea9b53e82f"
   },
   "outputs": [
    {
     "data": {
      "text/plain": [
       "(Index(['Gender', 'Married', 'Education', 'Self_Employed', 'ApplicantIncome',\n",
       "        'CoapplicantIncome', 'LoanAmount', 'Loan_Amount_Term', 'Credit_History',\n",
       "        'Dependents_0', 'Dependents_1', 'Dependents_2', 'Dependents_3+',\n",
       "        'Kentsel', 'Kırsal', 'Yarı_kentsel'],\n",
       "       dtype='object'),\n",
       " Index(['Loan_ID', 'Gender', 'Married', 'Dependents', 'Education',\n",
       "        'Self_Employed', 'ApplicantIncome', 'CoapplicantIncome', 'LoanAmount',\n",
       "        'Loan_Amount_Term', 'Credit_History', 'Property_Area'],\n",
       "       dtype='object'))"
      ]
     },
     "execution_count": 165,
     "metadata": {},
     "output_type": "execute_result"
    }
   ],
   "source": [
    "df.columns , df2.columns"
   ]
  },
  {
   "cell_type": "code",
   "execution_count": 166,
   "metadata": {
    "colab": {
     "base_uri": "https://localhost:8080/",
     "height": 226
    },
    "executionInfo": {
     "elapsed": 16,
     "status": "ok",
     "timestamp": 1703538914795,
     "user": {
      "displayName": "Tulay Cetin",
      "userId": "01551450039329269511"
     },
     "user_tz": -180
    },
    "id": "JcWcop2hVCNo",
    "outputId": "585987ee-d21b-4732-94c0-5fc771084350"
   },
   "outputs": [
    {
     "data": {
      "text/html": [
       "<div>\n",
       "<style scoped>\n",
       "    .dataframe tbody tr th:only-of-type {\n",
       "        vertical-align: middle;\n",
       "    }\n",
       "\n",
       "    .dataframe tbody tr th {\n",
       "        vertical-align: top;\n",
       "    }\n",
       "\n",
       "    .dataframe thead th {\n",
       "        text-align: right;\n",
       "    }\n",
       "</style>\n",
       "<table border=\"1\" class=\"dataframe\">\n",
       "  <thead>\n",
       "    <tr style=\"text-align: right;\">\n",
       "      <th></th>\n",
       "      <th>Gender</th>\n",
       "      <th>Married</th>\n",
       "      <th>Education</th>\n",
       "      <th>Self_Employed</th>\n",
       "      <th>ApplicantIncome</th>\n",
       "      <th>CoapplicantIncome</th>\n",
       "      <th>LoanAmount</th>\n",
       "      <th>Loan_Amount_Term</th>\n",
       "      <th>Credit_History</th>\n",
       "      <th>Dependents_0</th>\n",
       "      <th>Dependents_1</th>\n",
       "      <th>Dependents_2</th>\n",
       "      <th>Dependents_3+</th>\n",
       "      <th>Kentsel</th>\n",
       "      <th>Kırsal</th>\n",
       "      <th>Yarı_kentsel</th>\n",
       "    </tr>\n",
       "  </thead>\n",
       "  <tbody>\n",
       "    <tr>\n",
       "      <th>0</th>\n",
       "      <td>0</td>\n",
       "      <td>0</td>\n",
       "      <td>1</td>\n",
       "      <td>0</td>\n",
       "      <td>5849</td>\n",
       "      <td>0.0</td>\n",
       "      <td>146.412162</td>\n",
       "      <td>360.0</td>\n",
       "      <td>1.0</td>\n",
       "      <td>1</td>\n",
       "      <td>0</td>\n",
       "      <td>0</td>\n",
       "      <td>0</td>\n",
       "      <td>1</td>\n",
       "      <td>0</td>\n",
       "      <td>0</td>\n",
       "    </tr>\n",
       "    <tr>\n",
       "      <th>1</th>\n",
       "      <td>0</td>\n",
       "      <td>1</td>\n",
       "      <td>1</td>\n",
       "      <td>0</td>\n",
       "      <td>4583</td>\n",
       "      <td>1508.0</td>\n",
       "      <td>128.000000</td>\n",
       "      <td>360.0</td>\n",
       "      <td>1.0</td>\n",
       "      <td>0</td>\n",
       "      <td>1</td>\n",
       "      <td>0</td>\n",
       "      <td>0</td>\n",
       "      <td>0</td>\n",
       "      <td>1</td>\n",
       "      <td>0</td>\n",
       "    </tr>\n",
       "    <tr>\n",
       "      <th>2</th>\n",
       "      <td>0</td>\n",
       "      <td>1</td>\n",
       "      <td>1</td>\n",
       "      <td>1</td>\n",
       "      <td>3000</td>\n",
       "      <td>0.0</td>\n",
       "      <td>66.000000</td>\n",
       "      <td>360.0</td>\n",
       "      <td>1.0</td>\n",
       "      <td>1</td>\n",
       "      <td>0</td>\n",
       "      <td>0</td>\n",
       "      <td>0</td>\n",
       "      <td>1</td>\n",
       "      <td>0</td>\n",
       "      <td>0</td>\n",
       "    </tr>\n",
       "    <tr>\n",
       "      <th>3</th>\n",
       "      <td>0</td>\n",
       "      <td>1</td>\n",
       "      <td>0</td>\n",
       "      <td>0</td>\n",
       "      <td>2583</td>\n",
       "      <td>2358.0</td>\n",
       "      <td>120.000000</td>\n",
       "      <td>360.0</td>\n",
       "      <td>1.0</td>\n",
       "      <td>1</td>\n",
       "      <td>0</td>\n",
       "      <td>0</td>\n",
       "      <td>0</td>\n",
       "      <td>1</td>\n",
       "      <td>0</td>\n",
       "      <td>0</td>\n",
       "    </tr>\n",
       "    <tr>\n",
       "      <th>4</th>\n",
       "      <td>0</td>\n",
       "      <td>0</td>\n",
       "      <td>1</td>\n",
       "      <td>0</td>\n",
       "      <td>6000</td>\n",
       "      <td>0.0</td>\n",
       "      <td>141.000000</td>\n",
       "      <td>360.0</td>\n",
       "      <td>1.0</td>\n",
       "      <td>1</td>\n",
       "      <td>0</td>\n",
       "      <td>0</td>\n",
       "      <td>0</td>\n",
       "      <td>1</td>\n",
       "      <td>0</td>\n",
       "      <td>0</td>\n",
       "    </tr>\n",
       "  </tbody>\n",
       "</table>\n",
       "</div>"
      ],
      "text/plain": [
       "   Gender  Married  Education  Self_Employed  ApplicantIncome  \\\n",
       "0       0        0          1              0             5849   \n",
       "1       0        1          1              0             4583   \n",
       "2       0        1          1              1             3000   \n",
       "3       0        1          0              0             2583   \n",
       "4       0        0          1              0             6000   \n",
       "\n",
       "   CoapplicantIncome  LoanAmount  Loan_Amount_Term  Credit_History  \\\n",
       "0                0.0  146.412162             360.0             1.0   \n",
       "1             1508.0  128.000000             360.0             1.0   \n",
       "2                0.0   66.000000             360.0             1.0   \n",
       "3             2358.0  120.000000             360.0             1.0   \n",
       "4                0.0  141.000000             360.0             1.0   \n",
       "\n",
       "   Dependents_0  Dependents_1  Dependents_2  Dependents_3+  Kentsel  Kırsal  \\\n",
       "0             1             0             0              0        1       0   \n",
       "1             0             1             0              0        0       1   \n",
       "2             1             0             0              0        1       0   \n",
       "3             1             0             0              0        1       0   \n",
       "4             1             0             0              0        1       0   \n",
       "\n",
       "   Yarı_kentsel  \n",
       "0             0  \n",
       "1             0  \n",
       "2             0  \n",
       "3             0  \n",
       "4             0  "
      ]
     },
     "execution_count": 166,
     "metadata": {},
     "output_type": "execute_result"
    }
   ],
   "source": [
    "df.head()"
   ]
  },
  {
   "cell_type": "code",
   "execution_count": 167,
   "metadata": {
    "executionInfo": {
     "elapsed": 15,
     "status": "ok",
     "timestamp": 1703538914795,
     "user": {
      "displayName": "Tulay Cetin",
      "userId": "01551450039329269511"
     },
     "user_tz": -180
    },
    "id": "4PoMkAYPW2FH"
   },
   "outputs": [],
   "source": [
    "X=df.copy()\n",
    "y=y.copy()\n",
    "#egitim verimizin son halini x degerine kopyaladıktan sonra\n",
    "# kredi uygunlugu olarak yarattığımız y veri setini de y olarak kopyaladık"
   ]
  },
  {
   "cell_type": "code",
   "execution_count": 168,
   "metadata": {
    "executionInfo": {
     "elapsed": 15,
     "status": "ok",
     "timestamp": 1703538914795,
     "user": {
      "displayName": "Tulay Cetin",
      "userId": "01551450039329269511"
     },
     "user_tz": -180
    },
    "id": "_urOVPyzW2Lb"
   },
   "outputs": [],
   "source": [
    "def yData(row):\n",
    "    if(row==\"Y\"):\n",
    "        return 1\n",
    "    else:\n",
    "        return 0\n",
    "y=y[\"Loan_Status\"].apply(yData)\n",
    "#kopyaladıpımız kredi durumu verisi sayısallaştıryoruz"
   ]
  },
  {
   "cell_type": "code",
   "execution_count": 169,
   "metadata": {
    "executionInfo": {
     "elapsed": 17,
     "status": "ok",
     "timestamp": 1703538914797,
     "user": {
      "displayName": "Tulay Cetin",
      "userId": "01551450039329269511"
     },
     "user_tz": -180
    },
    "id": "Bl7bLjA6W2Pv"
   },
   "outputs": [],
   "source": [
    "from sklearn.model_selection import train_test_split, GridSearchCV\n",
    "from sklearn.metrics import accuracy_score, f1_score\n",
    "from sklearn import model_selection\n",
    "from sklearn.linear_model import LogisticRegression\n",
    "\n"
   ]
  },
  {
   "cell_type": "code",
   "execution_count": 170,
   "metadata": {
    "executionInfo": {
     "elapsed": 391,
     "status": "ok",
     "timestamp": 1703539103952,
     "user": {
      "displayName": "Tulay Cetin",
      "userId": "01551450039329269511"
     },
     "user_tz": -180
    },
    "id": "A3zv2F7UVCTU"
   },
   "outputs": [],
   "source": [
    "\n",
    "# Veriyi ve hedef değişkeni (x ve y) kullanarak eğitim ve test setlerini oluşturma\n",
    "X_train, X_test, Y_train, Y_test = train_test_split(X, y, test_size=0.33, random_state=42)\n"
   ]
  },
  {
   "cell_type": "code",
   "execution_count": 171,
   "metadata": {
    "executionInfo": {
     "elapsed": 410,
     "status": "ok",
     "timestamp": 1703539105633,
     "user": {
      "displayName": "Tulay Cetin",
      "userId": "01551450039329269511"
     },
     "user_tz": -180
    },
    "id": "CJdIBi0dVCYf"
   },
   "outputs": [],
   "source": [
    "models = [LogisticRegression]\n"
   ]
  },
  {
   "cell_type": "code",
   "execution_count": 172,
   "metadata": {
    "executionInfo": {
     "elapsed": 337,
     "status": "ok",
     "timestamp": 1703539108080,
     "user": {
      "displayName": "Tulay Cetin",
      "userId": "01551450039329269511"
     },
     "user_tz": -180
    },
    "id": "Yw22JKHFVCcj"
   },
   "outputs": [],
   "source": [
    "Score_accuracy=[]\n",
    "Score_f1=[]\n",
    "ModelName=[]\n",
    "\n",
    "\n",
    "for model in models:\n",
    "    alg = model().fit(X_train,Y_train)\n",
    "    y_pred = alg.predict(X_test)\n",
    "    Score_accuracy.append((accuracy_score(Y_test, y_pred)))\n",
    "    Score_f1.append((f1_score(Y_test, y_pred, average='weighted')))\n",
    "    ModelName.append(model.__name__)\n",
    "    Results = pd.DataFrame({'ModelName':ModelName, 'Score_accuracy':Score_accuracy, 'Score_f1':Score_f1})\n"
   ]
  },
  {
   "cell_type": "code",
   "execution_count": 173,
   "metadata": {
    "colab": {
     "base_uri": "https://localhost:8080/",
     "height": 89
    },
    "executionInfo": {
     "elapsed": 340,
     "status": "ok",
     "timestamp": 1703539111451,
     "user": {
      "displayName": "Tulay Cetin",
      "userId": "01551450039329269511"
     },
     "user_tz": -180
    },
    "id": "KoIMcH6WcTSc",
    "outputId": "a66ce22c-a181-4e42-f67a-b54ffb720a62"
   },
   "outputs": [
    {
     "data": {
      "text/html": [
       "<div>\n",
       "<style scoped>\n",
       "    .dataframe tbody tr th:only-of-type {\n",
       "        vertical-align: middle;\n",
       "    }\n",
       "\n",
       "    .dataframe tbody tr th {\n",
       "        vertical-align: top;\n",
       "    }\n",
       "\n",
       "    .dataframe thead th {\n",
       "        text-align: right;\n",
       "    }\n",
       "</style>\n",
       "<table border=\"1\" class=\"dataframe\">\n",
       "  <thead>\n",
       "    <tr style=\"text-align: right;\">\n",
       "      <th></th>\n",
       "      <th>ModelName</th>\n",
       "      <th>Score_accuracy</th>\n",
       "      <th>Score_f1</th>\n",
       "    </tr>\n",
       "  </thead>\n",
       "  <tbody>\n",
       "    <tr>\n",
       "      <th>0</th>\n",
       "      <td>LogisticRegression</td>\n",
       "      <td>0.79803</td>\n",
       "      <td>0.775606</td>\n",
       "    </tr>\n",
       "  </tbody>\n",
       "</table>\n",
       "</div>"
      ],
      "text/plain": [
       "            ModelName  Score_accuracy  Score_f1\n",
       "0  LogisticRegression         0.79803  0.775606"
      ]
     },
     "execution_count": 173,
     "metadata": {},
     "output_type": "execute_result"
    }
   ],
   "source": [
    "Results"
   ]
  },
  {
   "cell_type": "markdown",
   "metadata": {
    "id": "OBF6DAzJfdX6"
   },
   "source": [
    "#Hiperparametre Optimizasyonu Sonrasında Model Scorları"
   ]
  },
  {
   "cell_type": "code",
   "execution_count": 174,
   "metadata": {
    "executionInfo": {
     "elapsed": 467,
     "status": "ok",
     "timestamp": 1703539115296,
     "user": {
      "displayName": "Tulay Cetin",
      "userId": "01551450039329269511"
     },
     "user_tz": -180
    },
    "id": "JS30w_pgcTmg"
   },
   "outputs": [],
   "source": [
    "ModelName=[]\n",
    "Score_f1=[]\n",
    "Score_accuracy=[]"
   ]
  },
  {
   "cell_type": "code",
   "execution_count": 175,
   "metadata": {
    "executionInfo": {
     "elapsed": 315,
     "status": "ok",
     "timestamp": 1703539117263,
     "user": {
      "displayName": "Tulay Cetin",
      "userId": "01551450039329269511"
     },
     "user_tz": -180
    },
    "id": "rp_Qzq35cTs-"
   },
   "outputs": [],
   "source": [
    "# LogisticRegression\n",
    "tuned=LogisticRegression(solver='liblinear').fit(X_train, Y_train)\n",
    "ModelName.append(LogisticRegression.__name__)\n",
    "Score_f1.append(f1_score(Y_test, tuned.predict(X_test), average='weighted'))\n",
    "Score_accuracy.append(accuracy_score(Y_test, tuned.predict(X_test)))\n"
   ]
  },
  {
   "cell_type": "code",
   "execution_count": 176,
   "metadata": {
    "colab": {
     "base_uri": "https://localhost:8080/",
     "height": 89
    },
    "executionInfo": {
     "elapsed": 320,
     "status": "ok",
     "timestamp": 1703539120762,
     "user": {
      "displayName": "Tulay Cetin",
      "userId": "01551450039329269511"
     },
     "user_tz": -180
    },
    "id": "Qn07HIFvfpI6",
    "outputId": "b627e875-bb38-45ac-8ce9-1dcd1f7c6005"
   },
   "outputs": [
    {
     "data": {
      "text/html": [
       "<div>\n",
       "<style scoped>\n",
       "    .dataframe tbody tr th:only-of-type {\n",
       "        vertical-align: middle;\n",
       "    }\n",
       "\n",
       "    .dataframe tbody tr th {\n",
       "        vertical-align: top;\n",
       "    }\n",
       "\n",
       "    .dataframe thead th {\n",
       "        text-align: right;\n",
       "    }\n",
       "</style>\n",
       "<table border=\"1\" class=\"dataframe\">\n",
       "  <thead>\n",
       "    <tr style=\"text-align: right;\">\n",
       "      <th></th>\n",
       "      <th>ModelName</th>\n",
       "      <th>Score_f1</th>\n",
       "      <th>Score_accuracy</th>\n",
       "    </tr>\n",
       "  </thead>\n",
       "  <tbody>\n",
       "    <tr>\n",
       "      <th>0</th>\n",
       "      <td>LogisticRegression</td>\n",
       "      <td>0.762562</td>\n",
       "      <td>0.788177</td>\n",
       "    </tr>\n",
       "  </tbody>\n",
       "</table>\n",
       "</div>"
      ],
      "text/plain": [
       "            ModelName  Score_f1  Score_accuracy\n",
       "0  LogisticRegression  0.762562        0.788177"
      ]
     },
     "execution_count": 176,
     "metadata": {},
     "output_type": "execute_result"
    }
   ],
   "source": [
    "Results_best = pd.DataFrame({'ModelName':ModelName, 'Score_f1':Score_f1, 'Score_accuracy':Score_accuracy})\n",
    "Results_best"
   ]
  },
  {
   "cell_type": "code",
   "execution_count": 177,
   "metadata": {
    "colab": {
     "base_uri": "https://localhost:8080/"
    },
    "executionInfo": {
     "elapsed": 16,
     "status": "ok",
     "timestamp": 1703538914798,
     "user": {
      "displayName": "Tulay Cetin",
      "userId": "01551450039329269511"
     },
     "user_tz": -180
    },
    "id": "_CNQBPYON5Gh",
    "outputId": "f85dfaa2-cbdb-409e-dc29-26e41f1c63d9"
   },
   "outputs": [
    {
     "name": "stdout",
     "output_type": "stream",
     "text": [
      "Ortalama F1 Score: 0.7817078930016056\n",
      "Ortalama Accuracy Score:  0.8061975209916034\n"
     ]
    }
   ],
   "source": [
    "from sklearn.model_selection import cross_val_score\n",
    "\n",
    "# Logistic Regression modelini oluşturun\n",
    "model = LogisticRegression(solver='liblinear')\n",
    "\n",
    "# Çapraz doğrulama işlemi\n",
    "f1_scores = cross_val_score(model, X, y, cv=5, scoring='f1_weighted')\n",
    "accuracy_scores = cross_val_score(model, X, y, cv=5, scoring='accuracy')\n",
    "\n",
    "# Ortalama F1 Score ve AccuraScy Score\n",
    "mean_f1_score = f1_scores.mean()\n",
    "mean_accuracy_score = accuracy_scores.mean()\n",
    "\n",
    "print(\"Ortalama F1 Score:\", mean_f1_score)\n",
    "print(\"Ortalama Accuracy Score: \", mean_accuracy_score)\n"
   ]
  },
  {
   "cell_type": "code",
   "execution_count": 184,
   "metadata": {
    "colab": {
     "base_uri": "https://localhost:8080/"
    },
    "executionInfo": {
     "elapsed": 14,
     "status": "ok",
     "timestamp": 1703538914798,
     "user": {
      "displayName": "Tulay Cetin",
      "userId": "01551450039329269511"
     },
     "user_tz": -180
    },
    "id": "4j_fZGiMiIFh",
    "outputId": "32fc3e61-bbdf-4d89-9feb-a9b912e5bc4b"
   },
   "outputs": [
    {
     "name": "stdout",
     "output_type": "stream",
     "text": [
      "Kredi başvurunuz maalesef onaylanmamıştır.\n"
     ]
    }
   ],
   "source": [
    "example_data = {\n",
    "    'Gender': [1], # Örneğin cinsiyeti: 1 - Female, 0 - Male\n",
    "    'Married': [1],  # Örneğin medeni durumu: 1 - Yes, 0 - No\n",
    "    'Education': [0], # Örneğin eğitim durumu: 1 - Graduate, 0 - Not Graduate\n",
    "     'Self_Employed': [1],  # Örneğin kendi işi var mı: 1 - Yes, 0 - No\n",
    "     'ApplicantIncome': [1000],  # Örneğin başvuru sahibinin geliri\n",
    "    'CoapplicantIncome': [1000], # Örneğin başvuru sahibinin eşinin geliri\n",
    "    'LoanAmount': [750],  # Örneğin talep edilen kredi miktarı\n",
    "    'Loan_Amount_Term': [360],  # Örneğin kredi vadesi\n",
    "    'Credit_History': [0], # Örneğin kredi geçmişi: 1 - Good, 0 - Bad\n",
    "    'Dependents_0': [0],# Örneğin çocuk sayısı\n",
    "    'Dependents_1': [0],\n",
    "    'Dependents_2': [0],\n",
    "    'Dependents_3+': [1],\n",
    "    'Kentsel': [0],# Örneğin mülkiyet bölgesi: Urban, Rural, Semiurban\n",
    "    'Kırsal': [0],\n",
    "    'Yarı_kentsel': [1]\n",
    "}\n",
    "\n",
    "# Eğitimde kullanılan sütun isimlerini al\n",
    "feature_columns = X_train.columns\n",
    "\n",
    "# Örnek veri çerçevesini oluşturun ve sütunları uyumlu hale getirin\n",
    "example_df = pd.DataFrame(example_data, columns=feature_columns)\n",
    "\n",
    "# Modelin tahminini alın\n",
    "prediction = tuned.predict(example_df)\n",
    "\n",
    "# Tahmin sonucunu yazdırın\n",
    "if prediction[0] == 1:\n",
    "    print(\"Kredi başvurunuz onaylanmıştır.\")\n",
    "else:\n",
    "    print(\"Kredi başvurunuz maalesef onaylanmamıştır.\")"
   ]
  },
  {
   "cell_type": "code",
   "execution_count": 118,
   "metadata": {
    "executionInfo": {
     "elapsed": 13,
     "status": "ok",
     "timestamp": 1703538914798,
     "user": {
      "displayName": "Tulay Cetin",
      "userId": "01551450039329269511"
     },
     "user_tz": -180
    },
    "id": "EmHFkvu9iIPa"
   },
   "outputs": [],
   "source": []
  },
  {
   "cell_type": "code",
   "execution_count": 118,
   "metadata": {
    "executionInfo": {
     "elapsed": 13,
     "status": "ok",
     "timestamp": 1703538914798,
     "user": {
      "displayName": "Tulay Cetin",
      "userId": "01551450039329269511"
     },
     "user_tz": -180
    },
    "id": "r9iQfUUXiIT5"
   },
   "outputs": [],
   "source": []
  },
  {
   "cell_type": "code",
   "execution_count": 118,
   "metadata": {
    "executionInfo": {
     "elapsed": 424,
     "status": "ok",
     "timestamp": 1703538915209,
     "user": {
      "displayName": "Tulay Cetin",
      "userId": "01551450039329269511"
     },
     "user_tz": -180
    },
    "id": "Y4icC7E8iIXm"
   },
   "outputs": [],
   "source": []
  }
 ],
 "metadata": {
  "colab": {
   "authorship_tag": "ABX9TyO7fijG8cCpMEVUYolkYOww",
   "provenance": []
  },
  "kernelspec": {
   "display_name": "Python 3",
   "name": "python3"
  },
  "language_info": {
   "codemirror_mode": {
    "name": "ipython",
    "version": 3
   },
   "file_extension": ".py",
   "mimetype": "text/x-python",
   "name": "python",
   "nbconvert_exporter": "python",
   "pygments_lexer": "ipython3",
   "version": "3.13.1"
  }
 },
 "nbformat": 4,
 "nbformat_minor": 0
}
